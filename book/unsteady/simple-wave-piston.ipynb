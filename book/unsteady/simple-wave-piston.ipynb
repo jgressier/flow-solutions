{
 "cells": [
  {
   "cell_type": "markdown",
   "metadata": {
    "tags": []
   },
   "source": [
    "# Unsteady flow induced by a moving wall"
   ]
  },
  {
   "cell_type": "markdown",
   "metadata": {},
   "source": [
    "## Introduction and presentation of the problem\n",
    "\n",
    " ### Objective\n",
    "\n",
    " Simulate the transient flow around a continuous moving piston, using the characteristics method, without focusing of compression waves."
   ]
  },
  {
   "cell_type": "markdown",
   "metadata": {},
   "source": [
    "## Method of Characteristics"
   ]
  },
  {
   "cell_type": "code",
   "execution_count": 49,
   "metadata": {
    "tags": [
     "'hide-input'"
    ]
   },
   "outputs": [],
   "source": [
    "import numpy as np\n",
    "import matplotlib.pyplot as plt\n",
    "import scipy.optimize    as scopt\n",
    "from aerokit.common import defaultgas\n",
    "%matplotlib inline\n",
    "#\n",
    "#plt.rc('text', usetex=True)\n",
    "sty_carac = { 'color': 'orange', 'linewidth': 2 }\n",
    "sty_wall  = { 'color': 'black',  'linewidth': 3 }\n",
    "sty_flow  = { 'color': 'green',  'linewidth': 3 }\n",
    "sty_text  = { 'fontsize': 14 }\n",
    "\n",
    "def fig(zoom=1):\n",
    "    global ax\n",
    "    fig = plt.figure(figsize=(15*zoom,15*zoom), facecolor='white')\n",
    "    ax  = fig.add_subplot(111) \n",
    "    #plt.axis([xneg, length])\n",
    "    # ax.set(aspect=\"equal\")\n",
    "    ax.axis('on')\n",
    "    ax.set_facecolor('white') # dependt on backend\n",
    "    ax.set_xlim(xmin, xmax) #, xlim=[xneg, 4*length], ylim=[-.1, ymax])\n",
    "    ax.set_ylim(tmin, tmax) #, xlim=[xneg, 4*length], ylim=[-.1, ymax])\n",
    "    \n",
    "    \n",
    "def plot_geom():\n",
    "    t = np.linspace(tmin, tmax, 101)\n",
    "    plt.fill(np.concatenate(([xmin, xmin], xpiston(t))), np.concatenate(([tmax, tmin], t)),facecolor='lightgray', alpha=1., zorder=100)\n",
    "    plt.plot(xpiston(t), t, zorder=101, **sty_wall)\n",
    "    plt.text(xmin + 0.1, tmax - 0.1, r'$a_0={:.2f}\\ m/s$'.format(a0), zorder=101, backgroundcolor='white', **sty_text)\n",
    "    plt.tight_layout()\n",
    "    plt.xlabel(\"x [m]\")\n",
    "    plt.ylabel(\"t [s]\")"
   ]
  },
  {
   "cell_type": "markdown",
   "metadata": {},
   "source": [
    "We define the piston position and speed according to the time $ u (t) $ and $ v (t) $"
   ]
  },
  {
   "cell_type": "code",
   "execution_count": null,
   "metadata": {
    "tags": []
   },
   "outputs": [],
   "source": [
    "# definition of problem parameters\n",
    "gam  = 1.4 ; defaultgas.set_gamma(gam)\n",
    "a0 = 300.\n",
    "tmax = 3.\n",
    "tmin = 0.\n",
    "xmin = -10\n",
    "xmax = 0.5*tmax*a0 # \n",
    "\n",
    "# function to plot the geometry\n",
    "# \n",
    "xpistonmax = 50.\n",
    "def xpiston(t):\n",
    "    return xpistonmax*np.exp(-(t/.5-3)**2)\n",
    "\n",
    "# test de la fonction de tracé   \n",
    "fig(zoom=.5); plot_geom()"
   ]
  },
  {
   "cell_type": "markdown",
   "metadata": {},
   "source": [
    "## Faisceau de compression\n",
    "La vitesse du son au niveau du piston est calculée à partir de l'invariant des C- venant de la zone uniforme au repos: $u_p - \\frac{2a_p}{\\gamma-1} = u_0 - \\frac{2a_0}{\\gamma-1} \\Rightarrow a_p += a_0 + \\frac{\\gamma-1}{2}u_0$\n",
    "\n",
    "La pente des C+ est donnée par $\\frac{dt}{dx}=\\frac{1}{u_p+a_p}$"
   ]
  },
  {
   "cell_type": "code",
   "execution_count": null,
   "metadata": {
    "tags": []
   },
   "outputs": [],
   "source": [
    "# Piston velocity\n",
    "def u_piston(t):\n",
    "    return -xpistonmax*np.exp(-(t/0.5-3)**2)*4*(t/0.5 - 3)\n",
    "\n",
    "# speed of sound at piston boundary\n",
    "def a_piston(t):\n",
    "    # invariant of C- coming from uniform zone: u-2a/(gam-1)=cste\n",
    "    return a0 + u_piston(t)*(gam-1.)/2.\n",
    "\n",
    "t = np.linspace(tmin, tmax, 500)\n",
    "print(f\"intial speed of sound: {a0:.2f} m/s\")\n",
    "print(f\"Maximum piston speed: {np.max(u_piston(t)):.2f} m/s\")\n",
    "\n",
    "# Function to plot the C+ from the piston boundary\n",
    "def plot_CP_piston(t): \n",
    "    for tp in t:\n",
    "        ap = a_piston(tp)\n",
    "        slope = 1. / (u_piston(tp) + ap)\n",
    "        plt.plot([xpiston(tp), xpiston(tp)+(tmax-tp)*1/slope], [tp, tmax], **sty_carac)\n",
    "    \n",
    "def plot_CP(n=51): \n",
    "    plot_CP_piston(np.linspace(tmin, tmax, n))\n",
    "\n",
    "fig(zoom = 0.5)\n",
    "plot_CP()\n",
    "plot_geom()\n"
   ]
  },
  {
   "cell_type": "markdown",
   "metadata": {},
   "source": [
    "## integration trajectoire et C-\n",
    "\n",
    "On veut calculer les propriétés du fluide à un point $M(x,t)$ donné. Deux invariants arrivent à ce point.\n",
    "\n",
    "- invariant C-, venant de la zone uniforme: $u_M - \\frac{2a_M}{\\gamma-1} = u_0 - \\frac{2a_0}{\\gamma-1}$\n",
    "- invariant C+, venant du piston: $u_M + \\frac{2a_M}{\\gamma-1} = u_p + \\frac{2a_p}{\\gamma-1}$\n",
    "On commence le calcul itératif de $u_M$ par initialisant la vitesse $u_M$ et la vitesse du point du piston qui intersecte la C+.\n",
    "Le calcul itératif consuste à calculer la vitesse du son au point $M(x,t)$ avec la formule de l'invariant de la C-, pour ensuite calculer la pente de la C+. Ensuite on calculte le point d'intersection de la C+ avec le piston et on calcule la vitesse du piston en ce point. On mmet ensuite a jour la vitesse au point $M(x,t)$. Le calcul continue jusqu'à ce que la vitesse converge ou le nombre maximal d'itérations est atteint.\n",
    "\n",
    "En connaissant la vitesse du fluide en tout point et moment, on peut ensuite intégrer la trajectoire d'une particule de fluide."
   ]
  },
  {
   "cell_type": "code",
   "execution_count": 52,
   "metadata": {
    "tags": []
   },
   "outputs": [],
   "source": [
    "# u velocity at a given point        \n",
    "def u_vel(x, t, tol=1e-6, max_iter=100):\n",
    "    # Initial guess for u at point (x,t) and up at point on the wall where the C+ originates\n",
    "    a = lambda u: a0 + (gam-1)/2*u # C- relation\n",
    "    u = 0    \n",
    "    err = 1.\n",
    "    # iterate while the solution has not converged\n",
    "    # print(f\"calculating u_vel at x={x}, t={t:.3f}\")\n",
    "    iter = 0        # Iteration counter\n",
    "    while err > tol and iter <= max_iter:\n",
    "        # find the slope of the C+\n",
    "        invslope = u+a(u)\n",
    "        t_guess = t-x/invslope\n",
    "        # solve intersection with piston: x - (t-tp)/slope = xpiston(tp)\n",
    "        tpiston = scopt.fsolve(lambda tp: x-xpiston(tp)-(t-tp)*invslope, t_guess)\n",
    "        # Update u based on piston properties\n",
    "        up = u_piston(tpiston)  # calculate the flow properties at the piston at the calculated time tpiston \n",
    "        err = np.abs(u-up)      # calculate the error\n",
    "        #u = up\n",
    "        u = 0.5*(u+up)       # under-relaxation\n",
    "        iter += 1\n",
    "    if iter > max_iter:\n",
    "        print(f\"u_vel did not converge at x={x}, t={t:.3f}\")\n",
    "        # raise RuntimeError(f\"u_vel did not converge at x={x}, t={t}\")\n",
    "        return u\n",
    "    return u\n",
    "\n",
    "def flow_prop(x, t):\n",
    "    u = u_vel(x, t)\n",
    "    # from C-\n",
    "    a = a0 + (gam-1.)/2. * u\n",
    "    prop = {'vel': u, 'C+': u+a, 'C-': u-a}\n",
    "    return prop\n",
    "\n",
    "def integ(x, t, ctype, smin, smax, npts=100):\n",
    "    def step(x0, t0, dt, u):\n",
    "        return x0+dt*u, t0+dt\n",
    "    trajx = np.zeros(npts+1)\n",
    "    trajt = np.zeros(npts+1)\n",
    "    nforw = int(npts * smax/(smax-smin))\n",
    "    nback = npts-nforw\n",
    "    #print(smin, smax, nforw, nback)\n",
    "    sx = x\n",
    "    st = t\n",
    "    trajx[nback] = sx ; trajt[nback] = st\n",
    "    # backward\n",
    "    if nback>0:\n",
    "        dt = smin/nback\n",
    "        # print(f\"dt: {dt:.4f}\")\n",
    "        for i in range(nback):\n",
    "            px, pt = step(sx, st, .5*dt, flow_prop(sx, st)[ctype])    # RK2 / predictor\n",
    "            sx, st = step(sx, st,    dt, flow_prop(px, pt)[ctype])    # RK2 / final step\n",
    "            trajx[nback-i-1] = sx ; trajt[nback-i-1] = st\n",
    "    # forward\n",
    "    if nforw>0:\n",
    "        dt = smax/nforw\n",
    "        # print(f\"dt: {dt:.4f}\")\n",
    "        sx = x\n",
    "        st = t\n",
    "        for i in range(nforw):\n",
    "            px, pt = step(sx, st, .5*dt, flow_prop(sx, st)[ctype])    # RK2 / predictor\n",
    "            sx, st = step(sx, st,    dt, flow_prop(px, pt)[ctype])    # RK2 / final step\n",
    "            trajx[nback+i+1] = sx ; trajt[nback+i+1] = st\n",
    "    return trajx, trajt\n",
    "    "
   ]
  },
  {
   "cell_type": "code",
   "execution_count": null,
   "metadata": {
    "tags": []
   },
   "outputs": [],
   "source": [
    "def plot_CM(n=31, length=-1.): \n",
    "    t = np.linspace(tmin, tmax, n)\n",
    "    for tp in t:\n",
    "        xcm, tcm = integ(xpiston(tp), tp, 'C-', length, 0.)\n",
    "        plt.plot(xcm, tcm, **sty_carac)\n",
    "\n",
    "        \n",
    "# fluid particle trajectories\n",
    "Paths = []\n",
    "for i, (x0, t0) in enumerate([(25, .25), (35, .25), (100, .25), (270, 2), (280, 2)]):\n",
    "    print(f\"Calculating trajectory {i}: x0={x0}, t0={t0}\")\n",
    "    Paths.append(integ(x0, t0, 'vel', 0., 4.))\n",
    " \n",
    "fig(zoom = 0.5)\n",
    "print(\"Calculating C+ for plot\")\n",
    "plot_CP()\n",
    "for x, t in Paths:\n",
    "    plt.plot(x, t, **sty_flow)\n",
    "plot_geom()\n",
    "\n",
    "fig(zoom = 0.5)\n",
    "print(\"Calculating C- for plot\")\n",
    "plot_CM(length=-3)\n",
    "for x, t in Paths:\n",
    "    plt.plot(x, t, **sty_flow)\n",
    "plot_geom()\n",
    "\n",
    "fig(zoom = 0.5)\n",
    "print(\"Calculating C+ for plot\")\n",
    "plot_CP()\n",
    "print(\"Calculating C- for plot\")\n",
    "plot_CM(length=-3)\n",
    "for x, t in Paths:\n",
    "    plt.plot(x, t, **sty_flow)\n",
    "plot_geom()\n"
   ]
  },
  {
   "cell_type": "markdown",
   "metadata": {},
   "source": [
    "## Détente progressive"
   ]
  },
  {
   "cell_type": "code",
   "execution_count": null,
   "metadata": {
    "tags": []
   },
   "outputs": [],
   "source": [
    "# definition of problem parameters\n",
    "# \n",
    "tmax = 3.\n",
    "tmin = 0.\n",
    "xmin = -200\n",
    "xmax = 0.6*tmax*a0 # \n",
    "\n",
    "\n",
    "# function to plot the geometry\n",
    "# \n",
    "def xpiston(t):\n",
    "    slope = -180  # Define the slope for the linear portion\n",
    "    return np.where(\n",
    "        t < 0.75, \n",
    "        0.,  # Piston is stationary for t < 0.75\n",
    "        np.where(\n",
    "            t < 1.5,\n",
    "            slope*(t-0.75)**2 / (2*(1.5-0.75)),  # Quadratic behavior between 0.75 and 1.5\n",
    "            slope*(t-1.5) + slope*(1.5-0.75)**2 / (2*(1.5-0.75))  # Linear, continuous at t = 1.5\n",
    "        )\n",
    "    )\n",
    "\n",
    "def u_piston(t):\n",
    "    slope = -180  # Slope of the linear portion\n",
    "    \n",
    "    return np.where(\n",
    "        t < 0.75,\n",
    "        0.,  # Velocity is 0 for t < 0.75\n",
    "        np.where(\n",
    "            t < 1.5,\n",
    "            slope*(t-0.75) / (1.5-0.75),  # Derivative of the quadratic portion\n",
    "            slope  # Constant velocity for the linear portion\n",
    "        )\n",
    "    )\n",
    "\n",
    "t = np.linspace(tmin, tmax, 500)\n",
    "print(f\"vitesse du son: {a0:.2f} m/s\")\n",
    "print(f\"vitesse maximum du piston: {np.min(u_piston(t)):.2f} m/s\")\n",
    "\n",
    "# fluid particle trajectories\n",
    "x0 = 50 ; t0 = .25\n",
    "print(f\"Calculating tajectory 1: x0={x0}, t0={t0}\")\n",
    "CTx1, CTt1 = integ(x0, t0, 'vel', 0., 4.)\n",
    "x0 = 200 ; t0 = .25\n",
    "print(f\"Calculating tajectory 2: x0={x0}, t0={t0}\")\n",
    "CTx2, CTt2 = integ(x0, t0, 'vel', 0., 4.)\n",
    "Paths = []\n",
    "for i, (x0, t0) in enumerate([(50, .25), (60, .25), (150, .25)]):\n",
    "    print(f\"Calculating trajectory {i}: x0={x0}, t0={t0}\")\n",
    "    Paths.append(integ(x0, t0, 'vel', 0., 4.))\n",
    "\n",
    "fig(zoom = 0.5)\n",
    "print(\"Calculating C+ for plot\")\n",
    "plot_CP()\n",
    "for x, t in Paths:\n",
    "    plt.plot(x, t, **sty_flow)\n",
    "plot_geom()\n",
    "\n",
    "fig(zoom = 0.5)\n",
    "print(\"Calculating C- for plot\")\n",
    "plot_CM(length=-3)\n",
    "plot_CP_piston([0.75, 1.5])\n",
    "for x, t in Paths:\n",
    "    plt.plot(x, t, **sty_flow)\n",
    "plot_geom()\n"
   ]
  },
  {
   "cell_type": "markdown",
   "metadata": {},
   "source": [
    "## Compression"
   ]
  },
  {
   "cell_type": "code",
   "execution_count": null,
   "metadata": {
    "tags": []
   },
   "outputs": [],
   "source": [
    "# definition of problem parameters\n",
    "# \n",
    "tmax = 2.5\n",
    "tmin = 0.\n",
    "xmin = -10\n",
    "xmax = 0.5*tmax*a0 # \n",
    "\n",
    "# function to plot the geometry\n",
    "# \n",
    "def xpiston(t):\n",
    "    slope = 150  # Define the slope for the linear portion\n",
    "    return np.where(\n",
    "        t < 0.75, \n",
    "        0.,  # Piston is stationary for t < 0.75\n",
    "        np.where(\n",
    "            t < 1.5,\n",
    "            slope*(t-0.75)**2 / (2*(1.5-0.75)),  # Quadratic behavior between 0.75 and 1.5\n",
    "            slope*(t-1.5) + slope*(1.5-0.75)**2 / (2*(1.5-0.75))  # Linear, continuous at t = 1.5\n",
    "        )\n",
    "    )\n",
    "\n",
    "def u_piston(t):\n",
    "    slope = 150  # Slope of the linear portion    \n",
    "    return np.where(\n",
    "        t < 0.75,\n",
    "        0.,  # Velocity is 0 for t < 0.75\n",
    "        np.where(\n",
    "            t < 1.5,\n",
    "            slope*(t-0.75)/(1.5-0.75),  # Derivative of the quadratic portion\n",
    "            slope  # Constant velocity for the linear portion\n",
    "        )\n",
    "    )\n",
    "\n",
    "t = np.linspace(tmin, tmax, 500)\n",
    "print(f\"vitesse du son: {a0:.2f} m/s\")\n",
    "print(f\"vitesse maximum du piston: {np.max(u_piston(t)):.2f} m/s\")\n",
    "\n",
    "# fluid particle trajectories\n",
    "Paths = []\n",
    "for i, (x0, t0) in enumerate([(50, .25), (60, .25), (200, .25)]):\n",
    "    print(f\"Calculating trajectory {i}: x0={x0}, t0={t0}\")\n",
    "    Paths.append(integ(x0, t0, 'vel', 0., 4.))\n",
    " \n",
    "fig(zoom = 0.5)\n",
    "print(\"Calculating C+ for plot\")\n",
    "plot_CP()\n",
    "for x, t in Paths:\n",
    "    plt.plot(x, t, **sty_flow)\n",
    "plot_geom()\n",
    "\n",
    "fig(zoom = 0.5)\n",
    "print(\"Calculating C- for plot\")\n",
    "plot_CM(length=-3)\n",
    "plot_CP_piston([0.75, 1.5])\n",
    "for x, t in Paths:\n",
    "    plt.plot(x, t, **sty_flow)\n",
    "plot_geom()\n"
   ]
  },
  {
   "cell_type": "markdown",
   "metadata": {},
   "source": [
    "**credits:** Solim ROVERA, J. GRESSIER"
   ]
  }
 ],
 "metadata": {
  "kernelspec": {
   "display_name": "venv",
   "language": "python",
   "name": "python3"
  },
  "language_info": {
   "codemirror_mode": {
    "name": "ipython",
    "version": 3
   },
   "file_extension": ".py",
   "mimetype": "text/x-python",
   "name": "python",
   "nbconvert_exporter": "python",
   "pygments_lexer": "ipython3",
   "version": "3.9.19"
  }
 },
 "nbformat": 4,
 "nbformat_minor": 4
}
