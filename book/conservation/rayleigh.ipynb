{
 "cells": [
  {
   "cell_type": "markdown",
   "metadata": {},
   "source": [
    "# Rayleigh flow"
   ]
  },
  {
   "cell_type": "code",
   "execution_count": 6,
   "metadata": {},
   "outputs": [],
   "source": [
    "import numpy as np\n",
    "import matplotlib.pyplot as plt\n",
    "import aerokit.aero.Rayleigh as ray\n",
    "\n",
    "npoints = 200\n",
    "gam     = 1.4\n",
    "\n",
    "Mmin = 0.1\n",
    "Mmax = 4.\n",
    "\n",
    "Mach = np.log10(np.logspace(Mmin, Mmax, npoints+1))\n",
    "Tparam = ray.maxTiratio_Mach(Mach, gam)\n",
    "Ts     = ray.Ts_Tscri(Mach, gam)\n",
    "Ti     = ray.Ti_Ticri(Mach, gam)\n",
    "Ps     = ray.Ps_Pscri(Mach, gam)\n",
    "Pi     = ray.Pi_Picri(Mach, gam)\n",
    "V      = ray.V_Vcri(Mach, gam)\n",
    "dS     = ray.NormdS(Mach, gam)\n",
    "\n"
   ]
  },
  {
   "cell_type": "code",
   "execution_count": null,
   "metadata": {},
   "outputs": [],
   "source": [
    "\n",
    "fig, (ax0, ax1) =plt.subplots(1, 2, figsize=(12,6))\n",
    "ax0.set_title(\"Rayleigh flow\")\n",
    "\n",
    "ax0.plot(Mach, Ti, '-', color='#ff0000')\n",
    "ax0.plot(Mach, Ts, '-', color='#882222')\n",
    "ax0.plot(Mach, Pi, '-', color='#0000ff')\n",
    "ax0.plot(Mach, Ps, '-', color='#222288')\n",
    "ax0.plot(Mach, V,  '-', color='#009999')\n",
    "ax0.legend(['$T_i/T_i^\\star$', '$T_s/T^\\star$', '$p_i/p_i^\\star$', '$p_s/p^\\star$', '$V/V^\\star$'],\n",
    "           loc='upper left',prop={'size':10})\n",
    "ax0.axis([Mmin, Mmax, 0., 3.])\n",
    "ax0.set_xlabel('Mach number', fontsize=10)\n",
    "ax0.grid(which='major', linestyle=':', alpha=0.5)\n",
    "\n",
    "ax1.set_title('Rayleigh curve in T/S diagram, $\\gamma = %.1f$'%gam, fontsize=12, y=0.93)\n",
    "ax1.plot(dS, Ts, 'k')\n",
    "ax1.axis([-2, 0.1, .1, 1.1])\n",
    "ax1.set_xlabel('$\\Delta S/C_p$', fontsize=10)\n",
    "ax1.set_ylabel('$h/C_p$', fontsize=10)\n",
    "ax1.grid(which='major', linestyle=':', alpha=0.5)\n"
   ]
  },
  {
   "cell_type": "code",
   "execution_count": null,
   "metadata": {},
   "outputs": [],
   "source": []
  }
 ],
 "metadata": {
  "kernelspec": {
   "display_name": "venv",
   "language": "python",
   "name": "python3"
  },
  "language_info": {
   "codemirror_mode": {
    "name": "ipython",
    "version": 3
   },
   "file_extension": ".py",
   "mimetype": "text/x-python",
   "name": "python",
   "nbconvert_exporter": "python",
   "pygments_lexer": "ipython3",
   "version": "3.9.19"
  }
 },
 "nbformat": 4,
 "nbformat_minor": 2
}
