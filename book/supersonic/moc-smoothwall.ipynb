{
 "cells": [
  {
   "cell_type": "markdown",
   "metadata": {},
   "source": [
    "# supersonic flow over a bump"
   ]
  },
  {
   "cell_type": "code",
   "execution_count": null,
   "metadata": {},
   "outputs": [],
   "source": [
    "import numpy as np\n",
    "import matplotlib.pyplot as plt\n",
    "import scipy.optimize    as scopt\n",
    "from aerokit.common import defaultgas\n",
    "from aerokit.aero import degree     as deg  # import trigo functions with degree unit support\n",
    "#from aerokit.aero import ShockWave  as sw   # import functions for shockwave computation\n",
    "from aerokit.aero import Supersonic as sup  # import functions for steady supersonic flows\n",
    "%matplotlib inline\n",
    "#\n",
    "#plt.rc('text', usetex=True)\n",
    "sty_carac = { 'color': 'orange', 'linewidth': 2 }\n",
    "sty_wall  = { 'color': 'black',  'linewidth': 3 }\n",
    "sty_flow  = { 'color': 'green',  'linewidth': 3 }\n",
    "sty_text  = { 'fontsize': 14 }"
   ]
  },
  {
   "cell_type": "markdown",
   "metadata": {},
   "source": [
    "On définit tout d'abord les paramètres de ce cas. Ils sont définis comme des variables globales, que l'on peut utiliser directement dans les fonctions (comme $\\gamma$ par exemple)."
   ]
  },
  {
   "cell_type": "code",
   "execution_count": null,
   "metadata": {
    "scrolled": false
   },
   "outputs": [],
   "source": [
    "# definition of problem parameters\n",
    "gam  = 1.4 ; defaultgas.set_gamma(gam)\n",
    "M0   = 2.\n",
    "xmax = 1.\n",
    "xmin = -1.\n",
    "ymin = -.1\n",
    "ymax = .5 # \n",
    "\n",
    "# function to plot the geometry\n",
    "#\n",
    "def ywall(x):\n",
    "    return .1*np.exp(-(x/.5)**2)\n",
    "\n",
    "def wall_angle(x):\n",
    "    eps=1e-4\n",
    "    return deg.atan((ywall(x+eps)-ywall(x-eps))/(2.*eps))\n",
    "\n",
    "def fig(zoom=1):\n",
    "    global ax\n",
    "    fig = plt.figure(figsize=(14*zoom,8*zoom), facecolor='white')\n",
    "    ax  = fig.add_subplot(111) \n",
    "    #plt.axis([xneg, length])\n",
    "    ax.set(aspect=\"equal\")\n",
    "    ax.axis('off')\n",
    "    #ax.set_facecolor('white') # depends on backend\n",
    "    ax.set_xlim(xmin, xmax) #, xlim=[xneg, 4*length], ylim=[-.1, ymax])\n",
    "    ax.set_ylim(ymin, ymax) #, xlim=[xneg, 4*length], ylim=[-.1, ymax])\n",
    "\n",
    "def plot_geom():\n",
    "    x = np.linspace(xmin, xmax, 101)\n",
    "    plt.fill(np.concatenate(([xmax, xmin], x)), np.concatenate(([ymin, ymin], ywall(x))),\n",
    "             facecolor='lightgray', alpha=1., zorder=100)\n",
    "    plt.plot(x, ywall(x), zorder=101, **sty_wall)\n",
    "    plt.text(xmin+.1, ymax-.1, r'$M_0={}$'.format(M0), zorder=101, backgroundcolor='white', **sty_text)\n",
    "    plt.tight_layout()\n",
    "#\n",
    "# test de la fonction de tracé   \n",
    "fig(zoom=.5); plot_geom()\n"
   ]
  },
  {
   "cell_type": "markdown",
   "metadata": {},
   "source": [
    "## Faisceau de détente"
   ]
  },
  {
   "cell_type": "code",
   "execution_count": null,
   "metadata": {
    "scrolled": false
   },
   "outputs": [],
   "source": [
    "om0  = sup.PrandtlMeyer_Mach(M0)\n",
    "mu0 = deg.asin(1./M0)\n",
    "\n",
    "def mach_wall(x):\n",
    "    return sup.Mach_PrandtlMeyer(om0-wall_angle(x)) \n",
    "\n",
    "def mach(x,y):\n",
    "    m = M0\n",
    "    mw = 0.\n",
    "    while abs(m-mw) > 1.e-6:\n",
    "        th    = om0 - sup.PrandtlMeyer_Mach(m)   #C- : om0 + th0 = om1 + th1\n",
    "        thpmu = th + deg.asin(1./m)\n",
    "        slope = deg.tan(thpmu)\n",
    "        # solve intersection with wall:  y + slope*(x'-x)=ywall(x')\n",
    "        xwall = scopt.fsolve(lambda xw: y-ywall(xw)+slope*(xw-x), x-y/slope)\n",
    "        mw    = mach_wall(xwall)\n",
    "        m     = .5*(m+mw)\n",
    "    return m\n",
    "\n",
    "def plot_CP_wall(x): \n",
    "    for xw in x:\n",
    "        slope = deg.tan(wall_angle(xw)+deg.asin(1./mach_wall(xw)))\n",
    "        #print(xw, slope)\n",
    "        plt.plot([xw, xmax], [ywall(xw), ywall(xw)+slope*(xmax-xw)], **sty_carac)\n",
    "    \n",
    "def plot_CP(n=51): \n",
    "    plot_CP_wall(np.linspace(xmin, xmax, n))\n",
    "    \n",
    "def fill_expansion(): # tracé des caractéristiques de la détente\n",
    "    plt.fill([xmax, 0, xmax], [xmax*deg.tan(wang1+mu1), 0, xmax*deg.tan(wang0+mu0)], \n",
    "             facecolor=sty_carac['color'], alpha=.2)\n",
    "#\n",
    "fig()\n",
    "plot_CP()\n",
    "plot_geom()\n"
   ]
  },
  {
   "cell_type": "markdown",
   "metadata": {},
   "source": [
    "## integration trajectoire et C-"
   ]
  },
  {
   "cell_type": "code",
   "execution_count": null,
   "metadata": {},
   "outputs": [],
   "source": [
    "def flow_prop(x, y):\n",
    "    m = mach(x, y)\n",
    "    th = om0 - sup.PrandtlMeyer_Mach(m)\n",
    "    mu = deg.asin(1./m)\n",
    "    prop = {'ang': th, 'C+': th+mu, 'C-': th-mu}\n",
    "    return prop\n",
    "\n",
    "def integ(x, y, ctype, smin, smax, npts=100):\n",
    "    def step(x0, y0, ds, ang):\n",
    "        return x0+ds*deg.cos(ang), y0+ds*deg.sin(ang)\n",
    "    trajx = np.zeros(npts+1)\n",
    "    trajy = np.zeros(npts+1)\n",
    "    nforw = int(npts * smax/(smax-smin))\n",
    "    nback = npts-nforw\n",
    "    #print(smin, smax, nforw, nback)\n",
    "    sx = x\n",
    "    sy = y\n",
    "    trajx[nback] = sx ; trajy[nback] = sy\n",
    "    # backward\n",
    "    if nback>0:\n",
    "        ds = smin/nback\n",
    "        for i in range(nback):\n",
    "            px, py = step(sx, sy, .5*ds, flow_prop(sx, sy)[ctype])    # RK2 / predictor\n",
    "            sx, sy = step(sx, sy,    ds, flow_prop(px, py)[ctype])    # RK2 / final step\n",
    "            trajx[nback-i-1] = sx ; trajy[nback-i-1] = sy\n",
    "    # forward\n",
    "    if nforw>0:\n",
    "        ds = smax/nforw\n",
    "        sx = x\n",
    "        sy = y\n",
    "        for i in range(nforw):\n",
    "            px, py = step(sx, sy, .5*ds, flow_prop(sx, sy)[ctype])    # RK2 / predictor\n",
    "            sx, sy = step(sx, sy,    ds, flow_prop(px, py)[ctype])    # RK2 / final step\n",
    "            trajx[nback+i+1] = sx ; trajy[nback+i+1] = sy\n",
    "    return trajx, trajy\n",
    "    "
   ]
  },
  {
   "cell_type": "code",
   "execution_count": null,
   "metadata": {},
   "outputs": [],
   "source": [
    "fig()\n",
    "\n",
    "def plot_CM(n=31, length=-1.): \n",
    "    x = np.linspace(xmin, xmax, n)\n",
    "    for xw in x:\n",
    "        xcm, ycm = integ(xw, ywall(xw), 'C-', length, 0.)\n",
    "        plt.plot(xcm, ycm, **sty_carac)\n",
    "\n",
    "plot_CM()\n",
    "#\n",
    "x0 = -.9 ; y0 = .1\n",
    "CTx, CTy = integ(x0, y0, 'ang', 0., 3.)\n",
    "plt.plot(CTx, CTy, **sty_flow)\n",
    "x0 = -.9 ; y0 = .12\n",
    "CTx, CTy = integ(x0, y0, 'ang', 0., 3.)\n",
    "plt.plot(CTx, CTy, **sty_flow)\n",
    "#\n",
    "plot_geom()\n"
   ]
  }
 ],
 "metadata": {
  "kernelspec": {
   "display_name": "venv",
   "language": "python",
   "name": "python3"
  },
  "language_info": {
   "codemirror_mode": {
    "name": "ipython",
    "version": 3
   },
   "file_extension": ".py",
   "mimetype": "text/x-python",
   "name": "python",
   "nbconvert_exporter": "python",
   "pygments_lexer": "ipython3",
   "version": "3.9.19"
  }
 },
 "nbformat": 4,
 "nbformat_minor": 2
}
