{
 "cells": [
  {
   "cell_type": "markdown",
   "metadata": {},
   "source": [
    "# Mach lines for 2d isentropic flows"
   ]
  },
  {
   "cell_type": "code",
   "execution_count": null,
   "metadata": {},
   "outputs": [],
   "source": [
    "import math\n",
    "import numpy as np\n",
    "import matplotlib.pyplot as plt\n",
    "import scipy.optimize    as scopt\n",
    "from aerokit.common import defaultgas\n",
    "from aerokit.aero import degree     as deg  # import trigo functions with degree unit support\n",
    "#from aerokit.aero import ShockWave  as sw   # import functions for shockwave computation\n",
    "from aerokit.aero import Supersonic as sup  # import functions for steady supersonic flows\n",
    "%matplotlib inline\n",
    "#\n",
    "#plt.rc('text', usetex=True)\n",
    "sty_carac = { 'color': 'orange', 'linewidth': 2 }\n",
    "sty_wall  = { 'color': 'black',  'linewidth': 3 }\n",
    "sty_flow  = { 'color': 'green',  'linewidth': 3 }\n",
    "sty_text  = { 'fontsize': 14 }"
   ]
  },
  {
   "cell_type": "markdown",
   "metadata": {},
   "source": [
    "On définit tout d'abord les paramètres de ce cas. Ils sont définis comme des variables globales, que l'on peut utiliser directement dans les fonctions (comme $\\gamma$ par exemple)."
   ]
  },
  {
   "cell_type": "code",
   "execution_count": null,
   "metadata": {
    "scrolled": false
   },
   "outputs": [],
   "source": [
    "# definition of problem parameters\n",
    "gam  = 1.4 ; defaultgas.set_gamma(gam)\n",
    "M0   = 2.\n",
    "xmax = 1.\n",
    "xmin = -1.\n",
    "ymin = -.1\n",
    "ymax = .5 # \n",
    "\n",
    "# function to plot the geometry\n",
    "#\n",
    "def ywall(x):\n",
    "    return .1*np.exp(-(x/.5)**2)\n",
    "\n",
    "def wall_angle(x):\n",
    "    eps=1e-4\n",
    "    return deg.atan((ywall(x+eps)-ywall(x-eps))/(2.*eps))\n",
    "\n",
    "def fig(zoom=1):\n",
    "    global ax\n",
    "    fig = plt.figure(figsize=(14*zoom,8*zoom), facecolor='white')\n",
    "    ax  = fig.add_subplot(111) \n",
    "    #plt.axis([xneg, length])\n",
    "    ax.set(aspect=\"equal\")\n",
    "    ax.axis('off')\n",
    "    #ax.set_facecolor('white') # depends on backend\n",
    "    ax.set_xlim(xmin, xmax) #, xlim=[xneg, 4*length], ylim=[-.1, ymax])\n",
    "    ax.set_ylim(ymin, ymax) #, xlim=[xneg, 4*length], ylim=[-.1, ymax])\n",
    "\n",
    "def plot_geom():\n",
    "    x = np.linspace(xmin, xmax, 101)\n",
    "    plt.fill(np.concatenate(([xmax, xmin], x)), np.concatenate(([ymin, ymin], ywall(x))),\n",
    "             facecolor='lightgray', alpha=1., zorder=100)\n",
    "    plt.plot(x, ywall(x), zorder=101, **sty_wall)\n",
    "    plt.text(xmin+.1, ymax-.1, r'$M_0={}$'.format(M0), zorder=101, backgroundcolor='white', **sty_text)\n",
    "    plt.tight_layout()\n",
    "#\n",
    "# test de la fonction de tracé   \n",
    "fig(zoom=.5); plot_geom()\n"
   ]
  }
 ],
 "metadata": {
  "kernelspec": {
   "display_name": "venv",
   "language": "python",
   "name": "python3"
  },
  "language_info": {
   "codemirror_mode": {
    "name": "ipython",
    "version": 3
   },
   "file_extension": ".py",
   "mimetype": "text/x-python",
   "name": "python",
   "nbconvert_exporter": "python",
   "pygments_lexer": "ipython3",
   "version": "3.9.19"
  }
 },
 "nbformat": 4,
 "nbformat_minor": 2
}
