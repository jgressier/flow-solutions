{
 "cells": [
  {
   "cell_type": "markdown",
   "metadata": {},
   "source": [
    "# 2D shock reflections\n",
    "\n"
   ]
  },
  {
   "cell_type": "code",
   "execution_count": null,
   "metadata": {},
   "outputs": [],
   "source": [
    "import math\n",
    "import numpy as np\n",
    "import matplotlib.pyplot as plt\n",
    "from aerokit.common import defaultgas\n",
    "from aerokit.aero import degree    as deg # import trigo functions with degree unit support\n",
    "from aerokit.aero import ShockWave as sw  # import functions for shockwave computation\n",
    "%matplotlib inline"
   ]
  },
  {
   "cell_type": "markdown",
   "metadata": {},
   "source": [
    "We first define the parameters of this case. They are defined as global variables, which can be used directly in functions (such as $ \\gamma $ for example)."
   ]
  },
  {
   "cell_type": "code",
   "execution_count": null,
   "metadata": {
    "scrolled": false
   },
   "outputs": [],
   "source": [
    "# definition of problem parameters\n",
    "gam  = 1.4 ; defaultgas.set_gamma(gam)\n",
    "M0   = 2.8\n",
    "wdev = 18.\n",
    "print(\"wall deviation  (deg): {} with upwstream Mach number {}\".format(wdev, M0))\n",
    "\n",
    "# function to plot the geometry\n",
    "#\n",
    "def plot_geom(xneg=-.5, length=2., dev=wdev, zoom=1):\n",
    "    fig = plt.figure(figsize=(14*zoom,8*zoom))\n",
    "    ax  = fig.add_subplot(111) \n",
    "    #plt.axis([xneg, length])\n",
    "    ax.set(aspect=\"equal\", xlim=[xneg, length], ylim=[-.1, 1.1])\n",
    "    plt.plot([xneg, length],    [1, 1],                      color=\"black\", linewidth=2)\n",
    "    plt.plot([xneg, 0, length], [0, 0, length*deg.tan(dev)], color=\"black\", linewidth=2)\n",
    "#\n",
    "# test de la fonction de tracé   \n",
    "plot_geom(dev=wdev, zoom=.5)"
   ]
  },
  {
   "cell_type": "markdown",
   "metadata": {},
   "source": [
    "## initial shock"
   ]
  },
  {
   "cell_type": "code",
   "execution_count": null,
   "metadata": {},
   "outputs": [],
   "source": [
    "devmax   = sw.dev_Max(M0)\n",
    "devsonic = sw.dev_Sonic(M0)\n",
    "print((\"For upstream Mach number M0= {:1.4},\\n* maximum deviation is {:1.4}°\\n\"+\n",
    "      \"* limit for downstream supersonic flow is {:1.4}°\").format(M0, devmax, devsonic))"
   ]
  },
  {
   "cell_type": "code",
   "execution_count": null,
   "metadata": {},
   "outputs": [],
   "source": [
    "sig1 = sw.sigma_Mach_deflection(M0, wdev)\n",
    "Mn0  = M0*deg.sin(sig1)\n",
    "p1p0 = sw.Ps_ratio(Mn0)\n",
    "Mn1  = sw.downstream_Mn(Mn0)\n",
    "M1   = Mn1/deg.sin(sig1-wdev)\n",
    "print(\"shock with {:1.4}° deviation and angle {:1.4}\\ndownstream Mach number is M1= {:1.4}\\nCompression ratio   is p1/p0= {:1.4}\".format(wdev, sig1, M1, p1p0))"
   ]
  },
  {
   "cell_type": "markdown",
   "metadata": {},
   "source": [
    "## first reflection\n",
    "\n"
   ]
  },
  {
   "cell_type": "code",
   "execution_count": null,
   "metadata": {},
   "outputs": [],
   "source": [
    "sig2 = sw.sigma_Mach_deflection(M1, wdev)\n",
    "Mn1  = M1*deg.sin(sig2)\n",
    "p2p1 = sw.Ps_ratio(Mn1)\n",
    "Mn2  = sw.downstream_Mn(Mn1)\n",
    "M2   = Mn2/deg.sin(sig2-wdev)\n",
    "print(\"shock reflexion with {:1.4}° deviation and angle {:1.4}°\".format(wdev, sig2))\n",
    "print(\"downstream Mach number is M2= {:1.4}\\nCompression ratio   is p2/p1= {:1.4}\".format(M2, p2p1))\n",
    "p2p0 = p2p1*p1p0"
   ]
  },
  {
   "cell_type": "code",
   "execution_count": null,
   "metadata": {},
   "outputs": [],
   "source": [
    "yend=.75 # parameter to draw reflected shock\n",
    "plot_geom(dev=wdev, zoom=.8)\n",
    "xup  = 1./deg.tan(sig1)                     # impact of first shock on top wall\n",
    "xbot = xup + (1.-yend)/deg.tan(sig2-wdev)   # abscissa of reflected shock at yend\n",
    "plt.plot([0, xup, xbot], \n",
    "         [0,   1, yend], 'red', linewidth=2)"
   ]
  },
  {
   "cell_type": "markdown",
   "metadata": {},
   "source": [
    "## representation on shock polar curves"
   ]
  },
  {
   "cell_type": "code",
   "execution_count": null,
   "metadata": {},
   "outputs": [],
   "source": [
    "import aerokit.aero.plot.shockpolar as swplt\n",
    "\n",
    "fig=swplt.figure_theta_pressure(figsize=(14,8))\n",
    "fig.suptitle('Polar of Shock-Waves, $\\gamma = %.1f$'%gam, fontsize=12, y=0.93)\n",
    "plt.xlabel('flow angle', fontsize=10)\n",
    "plt.ylabel('normalized static pressure', fontsize=10)\n",
    "if p2p0 < 20.: plt.yscale('linear') # default is logarithmic\n",
    "#\n",
    "# plot polar curves\n",
    "swplt.plot_theta_pressure(M0, devmax=True, sonic=True)\n",
    "swplt.plot_theta_pressure(M1, thet_init=wdev, p_init=p1p0, color='red')\n",
    "\n",
    "# plot symbols for flow regions\n",
    "plt.plot(0,    1.,   'bo')\n",
    "plt.plot(wdev, p1p0, 'bo')\n",
    "plt.plot(0.,   p2p0, 'go')"
   ]
  }
 ],
 "metadata": {
  "kernelspec": {
   "display_name": "venv",
   "language": "python",
   "name": "python3"
  },
  "language_info": {
   "codemirror_mode": {
    "name": "ipython",
    "version": 2
   },
   "file_extension": ".py",
   "mimetype": "text/x-python",
   "name": "python",
   "nbconvert_exporter": "python",
   "pygments_lexer": "ipython2",
   "version": "3.9.19"
  }
 },
 "nbformat": 4,
 "nbformat_minor": 2
}
