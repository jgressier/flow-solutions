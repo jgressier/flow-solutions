{
 "cells": [
  {
   "cell_type": "code",
   "execution_count": null,
   "metadata": {
    "tags": [
     "remove-cell"
    ]
   },
   "outputs": [],
   "source": [
    "import matplotlib.pyplot as plt\n",
    "fontsize=14 ; plt.rcParams['figure.dpi'] = 150\n",
    "plt.rcParams['font.size'] = fontsize \n",
    "plt.rcParams['lines.linewidth'] = 1.5\n",
    "#plt.rcParams.update({'font.size': fontsize})"
   ]
  },
  {
   "cell_type": "markdown",
   "metadata": {},
   "source": [
    "# Shock polar\n",
    "\n",
    "We first propose the definition of 1D jumping function depends on the upstream ordinary machine. We will check the functions implemented by the use table (the reference value of the jump of $ \\rho $ and $ P $ is obtained in the table).\n",
    "\n",
    "## Rankine-Hugoniot equations\n",
    "\n",
    "$$\\frac{\\rho_1}{\\rho_0} = \\left( \\frac{2}{\\gamma+1}\\frac{1}{M_{n0}^2} + \\frac{\\gamma-1}{\\gamma+1} \\right)^{—1}\n",
    "\\qquad\\qquad \n",
    "  \\frac{P_1}{P_0} =  \\frac{2\\gamma}{\\gamma+1}M_{n0}^2 - \\frac{\\gamma-1}{\\gamma+1} $$\n",
    "\n",
    "$$ M_{n1} = \\sqrt{\\frac{1+\\frac{\\gamma-1}{2} M_{n0}^2}{\\gamma M_{n0}^2 - \\frac{\\gamma-1}{2} } }$$\n",
    "\n"
   ]
  },
  {
   "cell_type": "code",
   "execution_count": 3,
   "metadata": {},
   "outputs": [],
   "source": [
    "import numpy as np\n",
    "\n",
    "def rho_ratio_from_Mn(Mn, gam):\n",
    "    return 1./(2./(gam+1.)/Mn**2+(gam-1.)/(gam+1.))\n",
    "    \n",
    "def Ps_ratio_from_Mn(Mn, gam):\n",
    "    return 2.*gam/(gam+1.)*Mn**2-(gam-1.)/(gam+1.)\n",
    "\n",
    "def Mn1_from_Mn(Mn, gam): # this function is idempotent\n",
    "    return np.sqrt((1.+.5*(gam-1.)*Mn**2)/(gam*Mn**2-.5*(gam-1.)))"
   ]
  },
  {
   "cell_type": "markdown",
   "metadata": {},
   "source": [
    "We can now implement the calculation of the shock polar, either direct calculation (see procedure in the tables), or an iterative calculation from\n",
    "\n",
    "$$ \\frac{\\tan\\sigma}{\\tan(\\sigma-\\theta)}=\\frac{\\rho_1}{\\rho_0}(M_0,\\sigma) \n",
    "$$ (eq.polar)\n",
    "\n",
    "There are 3 solutions to the equation {eq}`eq.polar`\n",
    "\n",
    "To use the Newton's iterative method, you must define a $f(\\sigma)$ function which we are looking for zeros. The initialization of the iterative process can be significant and improved.\n",
    "\n",
    "The angle of the shock $\\sigma $ is between the upstream ($ \\mu_0 $) and downstream characteristics ($ \\Delta\\theta+\\mu_1 $). $ \\sigma = \\mu_0 $ is also the minimum value (zero deviation). Knowing $ \\mu_1 $, you can use $ \\Delta \\theta+\\mu_0 $ as an initial estimate\n"
   ]
  },
  {
   "cell_type": "code",
   "execution_count": null,
   "metadata": {},
   "outputs": [],
   "source": [
    "import aerokit.aero.degree     as deg\n",
    "import aerokit.aero.Isentropic as Is\n",
    "import aerokit.aero.ShockWave  as sw\n",
    "\n",
    "npoints = 200\n",
    "gam     = 1.4\n",
    "\n",
    "fig=plt.figure(1, figsize=(16,12))\n",
    "fig.suptitle('Polar of Shock-Waves, $\\gamma = %.1f$'%gam, fontsize=15, y=0.90)\n",
    "\n",
    "macharray = [ 1.05, 1.1, 1.15, 1.2, 1.25, 1.3, 1.4, 1.5, 1.6, 1.7, 1.8, 1.9, 2., 2.2, 2.4, 2.6, 3., 3.5, 4., 5., 10., 100. ]\n",
    "\n",
    "for m in macharray:\n",
    "    sig = np.linspace(deg.asin(1./m), 90., npoints+1)\n",
    "    dev = sw.deflection_Mach_sigma(m, sig, gam)\n",
    "    plt.plot(dev, sig, 'k-')\n",
    "    ilab = int(npoints/3)\n",
    "    figratio = .5\n",
    "    ang  = deg.atan((sig[ilab+1]-sig[ilab])/(dev[ilab+1]-dev[ilab])*figratio)\n",
    "    plt.text(dev[ilab], sig[ilab], '%.3g'%m, horizontalalignment='left', verticalalignment='top',\n",
    "             fontsize=8, bbox=dict(edgecolor='grey', facecolor='white', alpha=0.5),\n",
    "             rotation=ang)\n",
    "\n",
    "\n",
    "mach=np.logspace(np.log10(1.01), np.log10(50), npoints+1, base=10)\n",
    "\n",
    "# --- plot maximum deviation line ---\n",
    "sig = sw.sigma_DevMax(mach, gam)\n",
    "dev = sw.deflection_Mach_sigma(mach, sig, gam)\n",
    "plt.plot(dev,sig)\n",
    "# --- plot sonic line ---\n",
    "sig = sw.sigma_Sonic(mach, gam)\n",
    "dev = sw.deflection_Mach_sigma(mach, sig, gam)\n",
    "plt.plot(dev,sig, 'b--')\n",
    "\n",
    "    #labels.append(legends[i]+\", t=%.1f\"%results[i][t].time)\n",
    "#legend(labels, loc='upper left',prop={'size':10})  \n",
    "plt.axis([0., 50., 0., 90.])\n",
    "plt.xlabel('deviation $\\Delta\\\\theta$', fontsize=14)\n",
    "plt.ylabel('shock angle $\\sigma$', fontsize=14)\n",
    "plt.minorticks_on()\n",
    "plt.grid(which='major', linestyle='-', alpha=0.8)\n",
    "plt.grid(which='minor', linestyle=':', alpha=0.5)"
   ]
  },
  {
   "cell_type": "code",
   "execution_count": null,
   "metadata": {},
   "outputs": [],
   "source": []
  }
 ],
 "metadata": {
  "kernelspec": {
   "display_name": "venv",
   "language": "python",
   "name": "python3"
  },
  "language_info": {
   "codemirror_mode": {
    "name": "ipython",
    "version": 3
   },
   "file_extension": ".py",
   "mimetype": "text/x-python",
   "name": "python",
   "nbconvert_exporter": "python",
   "pygments_lexer": "ipython3",
   "version": "3.9.19"
  }
 },
 "nbformat": 4,
 "nbformat_minor": 2
}
