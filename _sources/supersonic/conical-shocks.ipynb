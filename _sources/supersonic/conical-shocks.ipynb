{
 "cells": [
  {
   "cell_type": "markdown",
   "metadata": {},
   "source": [
    "# Conical shock waves\n"
   ]
  },
  {
   "cell_type": "markdown",
   "metadata": {},
   "source": []
  },
  {
   "cell_type": "code",
   "execution_count": null,
   "metadata": {},
   "outputs": [
    {
     "name": "stderr",
     "output_type": "stream",
     "text": [
      "/Users/j.gressier/ENS/flow-solutions/venv/lib/python3.9/site-packages/aerokit/aero/ShockWave.py:353: RuntimeWarning: invalid value encountered in scalar divide\n",
      "  rhs[0] = -degree.sin(th) * degree.cos(phi - th) / degree.sin(phi) / k\n",
      "/Users/j.gressier/ENS/flow-solutions/venv/lib/python3.9/site-packages/aerokit/aero/ShockWave.py:355: RuntimeWarning: invalid value encountered in scalar divide\n",
      "  np.pi\n"
     ]
    },
    {
     "ename": "KeyboardInterrupt",
     "evalue": "",
     "output_type": "error",
     "traceback": [
      "\u001b[0;31m---------------------------------------------------------------------------\u001b[0m",
      "\u001b[0;31mKeyboardInterrupt\u001b[0m                         Traceback (most recent call last)",
      "Cell \u001b[0;32mIn[1], line 21\u001b[0m\n\u001b[1;32m     19\u001b[0m \u001b[38;5;28;01mfor\u001b[39;00m m \u001b[38;5;129;01min\u001b[39;00m macharray:\n\u001b[1;32m     20\u001b[0m     sig \u001b[38;5;241m=\u001b[39m np\u001b[38;5;241m.\u001b[39mlinspace(deg\u001b[38;5;241m.\u001b[39masin(\u001b[38;5;241m1.\u001b[39m\u001b[38;5;241m/\u001b[39mm), sw\u001b[38;5;241m.\u001b[39msigma_Sonic(m, gam)\u001b[38;5;241m*\u001b[39m\u001b[38;5;241m.6\u001b[39m, npoints\u001b[38;5;241m+\u001b[39m\u001b[38;5;241m1\u001b[39m)\n\u001b[0;32m---> 21\u001b[0m     dev \u001b[38;5;241m=\u001b[39m [sw\u001b[38;5;241m.\u001b[39mconical_deflection_Mach_sigma(m, s, gam) \u001b[38;5;28;01mfor\u001b[39;00m s \u001b[38;5;129;01min\u001b[39;00m sig]\n\u001b[1;32m     22\u001b[0m     plt\u001b[38;5;241m.\u001b[39mplot(dev, sig, \u001b[38;5;124m'\u001b[39m\u001b[38;5;124mk-\u001b[39m\u001b[38;5;124m'\u001b[39m)\n\u001b[1;32m     23\u001b[0m     ilab \u001b[38;5;241m=\u001b[39m \u001b[38;5;28mint\u001b[39m(npoints\u001b[38;5;241m/\u001b[39m\u001b[38;5;241m3\u001b[39m)\n",
      "Cell \u001b[0;32mIn[1], line 21\u001b[0m, in \u001b[0;36m<listcomp>\u001b[0;34m(.0)\u001b[0m\n\u001b[1;32m     19\u001b[0m \u001b[38;5;28;01mfor\u001b[39;00m m \u001b[38;5;129;01min\u001b[39;00m macharray:\n\u001b[1;32m     20\u001b[0m     sig \u001b[38;5;241m=\u001b[39m np\u001b[38;5;241m.\u001b[39mlinspace(deg\u001b[38;5;241m.\u001b[39masin(\u001b[38;5;241m1.\u001b[39m\u001b[38;5;241m/\u001b[39mm), sw\u001b[38;5;241m.\u001b[39msigma_Sonic(m, gam)\u001b[38;5;241m*\u001b[39m\u001b[38;5;241m.6\u001b[39m, npoints\u001b[38;5;241m+\u001b[39m\u001b[38;5;241m1\u001b[39m)\n\u001b[0;32m---> 21\u001b[0m     dev \u001b[38;5;241m=\u001b[39m [\u001b[43msw\u001b[49m\u001b[38;5;241;43m.\u001b[39;49m\u001b[43mconical_deflection_Mach_sigma\u001b[49m\u001b[43m(\u001b[49m\u001b[43mm\u001b[49m\u001b[43m,\u001b[49m\u001b[43m \u001b[49m\u001b[43ms\u001b[49m\u001b[43m,\u001b[49m\u001b[43m \u001b[49m\u001b[43mgam\u001b[49m\u001b[43m)\u001b[49m \u001b[38;5;28;01mfor\u001b[39;00m s \u001b[38;5;129;01min\u001b[39;00m sig]\n\u001b[1;32m     22\u001b[0m     plt\u001b[38;5;241m.\u001b[39mplot(dev, sig, \u001b[38;5;124m'\u001b[39m\u001b[38;5;124mk-\u001b[39m\u001b[38;5;124m'\u001b[39m)\n\u001b[1;32m     23\u001b[0m     ilab \u001b[38;5;241m=\u001b[39m \u001b[38;5;28mint\u001b[39m(npoints\u001b[38;5;241m/\u001b[39m\u001b[38;5;241m3\u001b[39m)\n",
      "File \u001b[0;32m~/ENS/flow-solutions/venv/lib/python3.9/site-packages/aerokit/aero/ShockWave.py:374\u001b[0m, in \u001b[0;36mconical_deflection_Mach_sigma\u001b[0;34m(Mach, sigma, gamma, tol)\u001b[0m\n\u001b[1;32m    372\u001b[0m conv \u001b[38;5;241m=\u001b[39m phi\n\u001b[1;32m    373\u001b[0m \u001b[38;5;28;01mwhile\u001b[39;00m \u001b[38;5;28mabs\u001b[39m(conv) \u001b[38;5;241m>\u001b[39m\u001b[38;5;241m=\u001b[39m tol:\n\u001b[0;32m--> 374\u001b[0m     dthma, err \u001b[38;5;241m=\u001b[39m \u001b[43m_rkf45\u001b[49m\u001b[43m(\u001b[49m\u001b[43mrhs\u001b[49m\u001b[43m,\u001b[49m\u001b[43m \u001b[49m\u001b[43mphi\u001b[49m\u001b[43m,\u001b[49m\u001b[43m \u001b[49m\u001b[43mthma\u001b[49m\u001b[43m,\u001b[49m\u001b[43m \u001b[49m\u001b[43mh\u001b[49m\u001b[43m)\u001b[49m\n\u001b[1;32m    375\u001b[0m     \u001b[38;5;66;03m# Accept integration step if error e is within tolerance\u001b[39;00m\n\u001b[1;32m    376\u001b[0m     \u001b[38;5;28;01mif\u001b[39;00m err \u001b[38;5;241m<\u001b[39m\u001b[38;5;241m=\u001b[39m tol:\n",
      "File \u001b[0;32m~/ENS/flow-solutions/venv/lib/python3.9/site-packages/aerokit/common/_ode.py:58\u001b[0m, in \u001b[0;36m_rkf45\u001b[0;34m(F, x, y, h)\u001b[0m\n\u001b[1;32m     56\u001b[0m     E \u001b[38;5;241m=\u001b[39m E \u001b[38;5;241m+\u001b[39m (C[i] \u001b[38;5;241m-\u001b[39m D[i]) \u001b[38;5;241m*\u001b[39m K[i]\n\u001b[1;32m     57\u001b[0m \u001b[38;5;66;03m# Compute RMS error e\u001b[39;00m\n\u001b[0;32m---> 58\u001b[0m e \u001b[38;5;241m=\u001b[39m \u001b[43mnp\u001b[49m\u001b[38;5;241;43m.\u001b[39;49m\u001b[43msqrt\u001b[49m\u001b[43m(\u001b[49m\u001b[43mnp\u001b[49m\u001b[38;5;241;43m.\u001b[39;49m\u001b[43msum\u001b[49m\u001b[43m(\u001b[49m\u001b[43mE\u001b[49m\u001b[43m \u001b[49m\u001b[38;5;241;43m*\u001b[39;49m\u001b[38;5;241;43m*\u001b[39;49m\u001b[43m \u001b[49m\u001b[38;5;241;43m2\u001b[39;49m\u001b[43m)\u001b[49m\u001b[43m \u001b[49m\u001b[38;5;241;43m/\u001b[39;49m\u001b[43m \u001b[49m\u001b[43mn\u001b[49m\u001b[43m)\u001b[49m\n\u001b[1;32m     59\u001b[0m \u001b[38;5;28;01mreturn\u001b[39;00m dy, e\n",
      "\u001b[0;31mKeyboardInterrupt\u001b[0m: "
     ]
    },
    {
     "data": {
      "text/plain": [
       "<Figure size 2400x1800 with 0 Axes>"
      ]
     },
     "metadata": {},
     "output_type": "display_data"
    }
   ],
   "source": [
    "# import aerokit.aero.degree     as deg\n",
    "# import aerokit.aero.ShockWave  as sw\n",
    "# import numpy                 as np\n",
    "# import matplotlib.pyplot     as plt\n",
    "\n",
    "# fontsize=14 ; plt.rcParams['figure.dpi'] = 150\n",
    "# plt.rcParams['font.size'] = fontsize \n",
    "# plt.rcParams['lines.linewidth'] = 1.5\n",
    "# #plt.rcParams.update({'font.size': fontsize})\n",
    "\n",
    "# npoints = 200\n",
    "# gam     = 1.4\n",
    "\n",
    "# fig=plt.figure(1, figsize=(16,12))\n",
    "# fig.suptitle('Polar of Conical Shock-Waves, $\\gamma = %.1f$'%gam, fontsize=15, y=0.90)\n",
    "\n",
    "# macharray = [ 1.05, 1.1, 1.15, 1.2, 1.25, 1.3, 1.4, 1.5, 1.6, 1.7, 1.8, 1.9, 2., 2.2, 2.4, 2.6, 3., 3.5, 4., 5., 10., 100. ]\n",
    "\n",
    "# for m in macharray:\n",
    "#     sig = np.linspace(deg.asin(1./m), sw.sigma_Sonic(m, gam)*.6, npoints+1)\n",
    "#     dev = [sw.conical_deflection_Mach_sigma(m, s, gam) for s in sig]\n",
    "#     plt.plot(dev, sig, 'k-')\n",
    "#     ilab = int(npoints/3)\n",
    "#     figratio = .5\n",
    "#     ang  = deg.atan((sig[ilab+1]-sig[ilab])/(dev[ilab+1]-dev[ilab])*figratio)\n",
    "#     plt.text(dev[ilab], sig[ilab], '%.3g'%m, horizontalalignment='left', verticalalignment='top',\n",
    "#              fontsize=8, bbox=dict(edgecolor='grey', facecolor='white', alpha=0.5),\n",
    "#              rotation=ang)\n",
    "\n",
    "\n",
    "# mach=np.logspace(np.log10(1.01), np.log10(50), npoints+1, base=10)\n",
    "\n",
    "# # # --- plot maximum deviation line ---\n",
    "# # sig = sw.sigma_DevMax(mach, gam)\n",
    "# # dev = sw.conical_deflection_Mach_sigma(mach, sig, gam)\n",
    "# # plt.plot(dev,sig)\n",
    "# # # --- plot sonic line ---\n",
    "# # sig = sw.sigma_Sonic(mach, gam)\n",
    "# # dev = sw.conical_deflection_Mach_sigma(mach, sig, gam)\n",
    "# # plt.plot(dev,sig, 'b--')\n",
    "\n",
    "#     #labels.append(legends[i]+\", t=%.1f\"%results[i][t].time)\n",
    "# #legend(labels, loc='upper left',prop={'size':10})  \n",
    "# plt.axis([0., 50., 0., 90.])\n",
    "# plt.xlabel('deviation $\\Delta\\\\theta$', fontsize=14)\n",
    "# plt.ylabel('shock angle $\\sigma$', fontsize=14)\n",
    "# plt.minorticks_on()\n",
    "# plt.grid(which='major', linestyle='-', alpha=0.8)\n",
    "# plt.grid(which='minor', linestyle=':', alpha=0.5)"
   ]
  }
 ],
 "metadata": {
  "kernelspec": {
   "display_name": "venv",
   "language": "python",
   "name": "python3"
  },
  "language_info": {
   "codemirror_mode": {
    "name": "ipython",
    "version": 3
   },
   "file_extension": ".py",
   "mimetype": "text/x-python",
   "name": "python",
   "nbconvert_exporter": "python",
   "pygments_lexer": "ipython3",
   "version": "3.9.19"
  }
 },
 "nbformat": 4,
 "nbformat_minor": 2
}
