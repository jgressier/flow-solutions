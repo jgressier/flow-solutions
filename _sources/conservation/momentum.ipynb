{
 "cells": [
  {
   "cell_type": "markdown",
   "metadata": {},
   "source": [
    "# Forces by momentum flux balance\n",
    "\n",
    "Instead of computing forces by sum of pressure and friction on walls, it is possible to make a momentum flux balance. The flux momentum is \n",
    "$$ \\int\\!\\!\\!\\int (\\rho V_n \\vec{V} + p\\vec{n})dA\n",
    "$$\n",
    "The 1D approximation that can be used for turbofan or nozzle thrust is $A(\\rho V^2 + p)$. In the case of rocket nozzle, only the exit has to be evaluated. It is commonly normalized by the throat section $A^\\star$ and stagnation pressure $P_t^\\star$."
   ]
  },
  {
   "cell_type": "code",
   "execution_count": null,
   "metadata": {},
   "outputs": [],
   "source": [
    "import numpy as np\n",
    "import matplotlib.pyplot as plt\n",
    "import aerokit.aero.Isentropic as Is\n",
    "import aerokit.aero.MassFlow as mf\n",
    "\n",
    "def ThrustFunction(Mach, gamma=1.4):\n",
    "    return mf.Sigma_Mach(Mach, gamma) / Is.PtPs_Mach(Mach, gamma) * (1.0 + gamma * Mach ** 2)\n",
    "\n",
    "fig, ax = plt.subplots(1, 1, figsize=(10,8))\n",
    "mach = np.linspace(1, 10, 100)\n",
    "for gamma in (1.3, 1.35, 1.4):\n",
    "    ax.plot(mach, ThrustFunction(mach, gamma), label=r'$\\gamma$ = %.2f' % gamma)\n",
    "ax.set_xlabel('Mach number')\n",
    "ax.set_ylabel('Thrust function')\n",
    "ax.legend()\n",
    "ax.grid()"
   ]
  },
  {
   "cell_type": "markdown",
   "metadata": {},
   "source": []
  }
 ],
 "metadata": {
  "kernelspec": {
   "display_name": "venv",
   "language": "python",
   "name": "python3"
  },
  "language_info": {
   "codemirror_mode": {
    "name": "ipython",
    "version": 3
   },
   "file_extension": ".py",
   "mimetype": "text/x-python",
   "name": "python",
   "nbconvert_exporter": "python",
   "pygments_lexer": "ipython3",
   "version": "3.9.19"
  }
 },
 "nbformat": 4,
 "nbformat_minor": 2
}
