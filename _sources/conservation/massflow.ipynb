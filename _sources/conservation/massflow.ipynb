{
 "cells": [
  {
   "cell_type": "markdown",
   "metadata": {},
   "source": [
    "# Mass flow conservation"
   ]
  },
  {
   "cell_type": "markdown",
   "metadata": {},
   "source": [
    "Mass flow conservation is a key principle for steady flows. Though it is defined as an integral sum, it is widely used with averaged values. The surface is supposed to be normal the velocity. In this context,\n",
    "$\\dot{m}=\\rho V S$ can be expanded as\n",
    "\n",
    "$$ \n",
    "\\dot{m}=\\rho S V  = \\frac{S P_t}{\\sqrt{rT_t}} \\dot{m_R}(M)\n",
    "$$\n",
    "\n",
    "where the weighted mass flow function\n",
    "\n",
    "$$\n",
    "\\dot{m_R}(M) = \\sqrt\\gamma M \\left( 1+\\frac{\\gamma-1}{2}M^2 \\right)^{-\\frac{\\gamma+1}{2(\\gamma-1)}} \n",
    "$$"
   ]
  },
  {
   "cell_type": "code",
   "execution_count": null,
   "metadata": {
    "tags": [
     "hide-input"
    ]
   },
   "outputs": [],
   "source": [
    "import numpy as np\n",
    "import matplotlib.pyplot as plt\n",
    "\n",
    "gam = 1.4\n",
    "\n",
    "def machplot(ax, name, value):\n",
    "    global mach\n",
    "    ax.grid()\n",
    "    ax.set_xlim(0., mach.max())\n",
    "    ax.set_xlabel('Mach')\n",
    "    ax.set_ylabel(name)\n",
    "    ax.plot(mach, value)\n",
    "\n",
    "def plot_arrow(ax, xyfrom, xyto, color='red'):\n",
    "    from matplotlib.patches import FancyArrowPatch\n",
    "    arrow = FancyArrowPatch(xyfrom, xyto,\n",
    "        mutation_scale=20,  \n",
    "        color=color, alpha=0.4,\n",
    "        linewidth=1)\n",
    "    ax.add_patch(arrow)\n",
    "    ax.plot(*xyfrom, marker='o', color='black', ms=5)\n"
   ]
  },
  {
   "cell_type": "code",
   "execution_count": null,
   "metadata": {},
   "outputs": [],
   "source": [
    "def mr(mach):\n",
    "    return np.sqrt(gam) * mach * ( 1 + .5*(gam-1)*mach**2 )** (-(gam+1)/2/(gam-1))\n",
    "\n",
    "def sigma(mach):\n",
    "    return mr(1.)/mr(mach)\n",
    "\n",
    "fig, (ax0, ax1) = plt.subplots(1, 2, figsize=(10,4))\n",
    "mach = np.linspace(.05, 4., 100)\n",
    "\n",
    "# above defined plot\n",
    "machplot(ax0, \"$\\dot{m_R}(M)$\", mr(mach))\n",
    "machplot(ax1, \"$\\Sigma(M)$\", sigma(mach))"
   ]
  },
  {
   "cell_type": "markdown",
   "metadata": {},
   "source": [
    "## Variation of section\n",
    "\n",
    "In a diverging duct, one can compute the new Mach number $M_2$ from the measured initial Mach number $M_1$ and the section ratio $A_2/A_2=1.2$. Two cases are computed below:\n",
    "\n",
    "- an initial subsonic $M_1=0.4$ flow where the divergence implies an acceleration (blue)\n",
    "\n",
    "- an initial supersonic $M_1=1.4$ flow where the divergence implies an deceleration (red)\n",
    "\n",
    "\n",
    "`````{admonition} This admonition was styled...\n",
    ":class: tip\n",
    "With a tip class!\n",
    "`````\n"
   ]
  },
  {
   "cell_type": "code",
   "execution_count": null,
   "metadata": {},
   "outputs": [],
   "source": [
    "section_ratio = 1.6\n",
    "\n",
    "def mach_from_sigma(sigmavalue, mach_init):\n",
    "    from scipy.optimize import newton\n",
    "    return newton(lambda mach: sigmavalue - sigma(mach), # function to solve\n",
    "                  mach_init)\n",
    "\n",
    "fig, (ax0, ax1) = plt.subplots(1, 2, figsize=(10,4))\n",
    "mach = np.linspace(.1, 3., 100)\n",
    "machplot(ax0, \"$\\dot{m_R}(M)$\", mr(mach))\n",
    "machplot(ax1, \"$\\Sigma(M)$\", sigma(mach)) ; ax1.set_ylim(0, 3)\n",
    "\n",
    "print(f\"The Mach number obtained after a ratio {section_ratio} of section:\")\n",
    "for m1, color in ((0.5, 'blue'), (1.5, 'red')):\n",
    "    # ACTUAL computation to proceed \n",
    "    sig1 = sigma(m1)\n",
    "    sig2 = section_ratio * sig1\n",
    "    m2 = mach_from_sigma(sig2, m1) # initialisation with m1\n",
    "    # weighted mass flows functions\n",
    "    mr1 = mr(1.)/sig1\n",
    "    mr2 = mr(1.)/sig2\n",
    "    plot_arrow(ax0, (m1, mr1), (m2, mr2), color)\n",
    "    plot_arrow(ax1, (m1, sig1), (m2, sig2), color)\n",
    "    print(f\"is {m2:.2f} if the initial Mach number is {m1:.1f} ({color})\")"
   ]
  },
  {
   "cell_type": "markdown",
   "metadata": {},
   "source": [
    "\n",
    "```{admonition} Multiple solutions for an expected mass flow\n",
    "Here's the admonition content\n",
    "```\n",
    "\n",
    "## Multiple solutions\n",
    "\n",
    "From a given value of mass flow of $\\Sigma$ function, there are two solutions for the Mach number, one subsonic and the other supersonic. If mass flow conservation is applied to close sections, the Mach number is assumed to be in the same regime. However, a global conservation can be applied between two sections of different regimes. The selection of the regime can be made with some strategy assumptions and pressure compatibility relations. Those considerations are detailed in {doc}`../internal/nozzle-regime-details`. \n",
    "\n",
    "Below, the computation and the identification of both solution are provided."
   ]
  },
  {
   "cell_type": "code",
   "execution_count": null,
   "metadata": {},
   "outputs": [],
   "source": [
    "# base figure\n",
    "fig, (ax0, ax1) = plt.subplots(1, 2, figsize=(10,4))\n",
    "mach = np.linspace(.1, 3., 100)\n",
    "machplot(ax0, \"$\\dot{m_R}(M)$\", mr(mach))\n",
    "machplot(ax1, \"$\\Sigma(M)$\", sigma(mach)) ; ax1.set_ylim(0, 3)\n",
    "#\n",
    "m1 = .5\n",
    "sig1 = sigma(m1)\n",
    "sig2 = section_ratio * sig1\n",
    "m2sub = mach_from_sigma(sig2, .5) # initialisation with subsonic\n",
    "m2sup = mach_from_sigma(sig2, 1.5) # initialisation with supersonic\n",
    "# weighted mass flows functions\n",
    "mr1 = mr(1.)/sig1\n",
    "mr2 = mr(1.)/sig2\n",
    "for m2 in (m2sub, m2sup): # plot all arrows\n",
    "    plot_arrow(ax0, (m1, mr1), (m2, mr2), 'blue')\n",
    "    plot_arrow(ax1, (m1, sig1), (m2, sig2), 'blue')\n"
   ]
  },
  {
   "cell_type": "markdown",
   "metadata": {},
   "source": [
    "All provided functions are implemented and available in (aerokit python package)[http://github.com/jgressier/aerokit] in `aero.massflow` subpackage."
   ]
  }
 ],
 "metadata": {
  "kernelspec": {
   "display_name": "venv",
   "language": "python",
   "name": "python3"
  },
  "language_info": {
   "codemirror_mode": {
    "name": "ipython",
    "version": 3
   },
   "file_extension": ".py",
   "mimetype": "text/x-python",
   "name": "python",
   "nbconvert_exporter": "python",
   "pygments_lexer": "ipython3",
   "version": "3.9.19"
  }
 },
 "nbformat": 4,
 "nbformat_minor": 2
}
