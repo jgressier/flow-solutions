{
 "cells": [
  {
   "cell_type": "markdown",
   "metadata": {},
   "source": [
    "# Mass flow conservation"
   ]
  },
  {
   "cell_type": "markdown",
   "metadata": {},
   "source": [
    "Mass flow conservation is a key principle for steady flows. Though it is defined as an integral sum, it is widely used with averaged values. The surface is supposed to be normal the velocity. In this context,\n",
    "$\\dot{m}=\\rho V S$ can be expanded as\n",
    "\n",
    "$$ \n",
    "\\dot{m}=\\rho S V  = \\frac{S P_t}{\\sqrt{rT_t}} \\dot{m_R}(M)\n",
    "$$\n",
    "\n",
    "where the weighted mass flow function\n",
    "\n",
    "$$\n",
    "\\dot{m_R}(M) = \\sqrt\\gamma M \\left( 1+\\frac{\\gamma-1}{2}M^2 \\right)^{-\\frac{\\gamma+1}{2(\\gamma-1)}} \n",
    "$$"
   ]
  },
  {
   "cell_type": "code",
   "execution_count": null,
   "metadata": {
    "tags": [
     "hide-input"
    ]
   },
   "outputs": [],
   "source": [
    "import numpy as np\n",
    "import matplotlib.pyplot as plt\n",
    "\n",
    "gam = 1.4\n",
    "\n",
    "def machplot(ax, name, value):\n",
    "    global mach\n",
    "    ax.grid()\n",
    "    ax.set_xlim(0., mach.max())\n",
    "    ax.set_xlabel('Mach')\n",
    "    ax.set_ylabel(name)\n",
    "    ax.plot(mach, value)"
   ]
  },
  {
   "cell_type": "code",
   "execution_count": null,
   "metadata": {},
   "outputs": [],
   "source": [
    "def mr(mach):\n",
    "    return np.sqrt(gam) * mach * ( 1 + .5*(gam-1)*mach**2 )** (-(gam+1)/2/(gam-1))\n",
    "\n",
    "def sigma(mach):\n",
    "    return mr(1.)/mr(mach)\n",
    "\n",
    "fig, (ax0, ax1) = plt.subplots(1, 2, figsize=(10,4))\n",
    "mach = np.linspace(.05, 4., 100)\n",
    "\n",
    "# above defined plot\n",
    "machplot(ax0, \"$\\dot{m_R}(M)$\", mr(mach))\n",
    "machplot(ax1, \"$\\Sigma(M)$\", sigma(mach))"
   ]
  },
  {
   "cell_type": "markdown",
   "metadata": {},
   "source": [
    "## Variation of section\n",
    "\n",
    "test substitution of key {key} {{key}}\n",
    "\n",
    "```{admonition} Here's your admonition\n",
    "Here's the admonition content\n",
    "```\n",
    "\n",
    "`````{admonition} This admonition was styled...\n",
    ":class: tip\n",
    "With a tip class!\n",
    "`````\n",
    "\n",
    "````{admonition} This admonition was styled...\n",
    ":class: tip\n",
    "With a tip class!\n",
    "````"
   ]
  },
  {
   "cell_type": "code",
   "execution_count": null,
   "metadata": {},
   "outputs": [],
   "source": []
  },
  {
   "cell_type": "markdown",
   "metadata": {},
   "source": [
    "## Multiple solutions"
   ]
  }
 ],
 "metadata": {
  "kernelspec": {
   "display_name": "venv",
   "language": "python",
   "name": "python3"
  },
  "language_info": {
   "codemirror_mode": {
    "name": "ipython",
    "version": 3
   },
   "file_extension": ".py",
   "mimetype": "text/x-python",
   "name": "python",
   "nbconvert_exporter": "python",
   "pygments_lexer": "ipython3",
   "version": "3.9.19"
  }
 },
 "nbformat": 4,
 "nbformat_minor": 2
}
