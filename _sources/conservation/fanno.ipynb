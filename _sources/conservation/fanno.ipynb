{
 "cells": [
  {
   "cell_type": "markdown",
   "metadata": {},
   "source": [
    "# Fanno flow"
   ]
  },
  {
   "cell_type": "code",
   "execution_count": null,
   "metadata": {},
   "outputs": [],
   "source": [
    "import numpy                 as np\n",
    "import matplotlib.pyplot     as plt\n",
    "import aerokit.aero.Fanno            as fanno\n",
    "\n",
    "npoints = 100\n",
    "gam     = 1.4\n",
    "\n",
    "Mmin = 0.1\n",
    "Mmax = 4.\n",
    "\n",
    "Mach = np.log10(np.logspace(Mmin, Mmax, npoints+1))\n",
    "Fparam = fanno.maxFparam_Mach(Mach, gam)\n",
    "Ts     = fanno.Ts_Tscri(Mach, gam)\n",
    "Ps     = fanno.Ps_Pscri(Mach, gam)\n",
    "Pi     = fanno.Pi_Picri(Mach, gam)\n",
    "V      = fanno.V_Vcri(Mach, gam)\n",
    "dS     = fanno.NormdS(Mach, gam)\n"
   ]
  },
  {
   "cell_type": "code",
   "execution_count": null,
   "metadata": {},
   "outputs": [],
   "source": [
    "\n",
    "\n",
    "fig, (ax0, ax1) =plt.subplots(1, 2, figsize=(12,6))\n",
    "fig.suptitle(\"Fanno flow\")\n",
    "ax0.set_title('Ratio to critical state, $\\gamma = %.1f$'%gam, fontsize=12, y=0.93)\n",
    "ax0.plot(Mach, Fparam, 'k--')\n",
    "ax0.plot(Mach, Ts, 'r-')\n",
    "ax0.plot(Mach, Ps, '-', color='#000088')\n",
    "ax0.plot(Mach, Pi, '-', color='#0000ff')\n",
    "ax0.plot(Mach, V, 'k-', color='#009999')\n",
    "ax0.legend(['Fanno parameter', '$T_s/T^\\star$', '$p_s/p^\\star$', '$p_i/p_i^\\star$', '$V/V^\\star$'],\n",
    "           loc='upper left',prop={'size':10})  \n",
    "ax0.axis([Mmin, Mmax, 0., 4.])\n",
    "ax0.set_xlabel('Mach number', fontsize=10)\n",
    "#ax0.ylabel('shock angle $\\sigma$', fontsize=10)\n",
    "#ax0.minorticks_on()\n",
    "ax0.grid(which='major', linestyle=':', alpha=0.5)\n",
    "#ax0.grid(which='minor', linestyle=':', alpha=0.5)\n",
    "\n",
    "ax1.set_title('Fanno curve in T/S diagram, $\\gamma = %.1f$'%gam, fontsize=12, y=0.93)\n",
    "ax1.plot(dS, Ts, 'k')\n",
    "#==============================================================================\n",
    "# Mlab   = np.append(np.linspace(0.1, 1, 10), np.linspace(1, 4, 7))\n",
    "# Tslab  = fanno.Ts_Tscri(Mlab, gam)\n",
    "# dSlab  = fanno.NormdS(Mlab, gam)\n",
    "# ax1.plot(dSlab, Tslab, 'ro')\n",
    "# for i in range(len(Mlab)):\n",
    "#     ax1.text(dSlab[i], Tslab[i], '  M=%.2g'%Mlab[i], horizontalalignment='left', verticalalignment='center',\n",
    "#              fontsize=8, rotation=-30*np.sign(Mlab[i]-1))\n",
    "#==============================================================================\n",
    "#ax1.axis([Mmin, Mmax, 0., 4.])\n",
    "ax1.set_xlabel('$\\Delta S/C_p$', fontsize=10)\n",
    "ax1.set_ylabel('$h/C_p$', fontsize=10)\n",
    "#ax1.minorticks_on()\n",
    "ax1.grid(which='major', linestyle=':', alpha=0.5)\n",
    "#ax1.grid(which='minor', linestyle=':', alpha=0.5)"
   ]
  }
 ],
 "metadata": {
  "kernelspec": {
   "display_name": "venv",
   "language": "python",
   "name": "python3"
  },
  "language_info": {
   "codemirror_mode": {
    "name": "ipython",
    "version": 3
   },
   "file_extension": ".py",
   "mimetype": "text/x-python",
   "name": "python",
   "nbconvert_exporter": "python",
   "pygments_lexer": "ipython3",
   "version": "3.9.19"
  }
 },
 "nbformat": 4,
 "nbformat_minor": 2
}
