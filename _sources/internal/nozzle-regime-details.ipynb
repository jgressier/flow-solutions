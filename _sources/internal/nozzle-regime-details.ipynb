{
 "cells": [
  {
   "cell_type": "code",
   "execution_count": null,
   "metadata": {
    "tags": [
     "'hide-input'"
    ]
   },
   "outputs": [],
   "source": [
    "\n",
    "import numpy as np\n",
    "import aerokit.common.defaultgas as defg\n",
    "import aerokit.aero.Isentropic as Is\n",
    "import aerokit.aero.ShockWave  as sw\n",
    "import aerokit.aero.MassFlow   as mf\n",
    "#\n",
    "%matplotlib inline\n",
    "import matplotlib.pyplot as plt\n",
    "plt.rcParams['font.size'] = 14 ; plt.rcParams['lines.linewidth'] = 1.5\n",
    "#\n",
    "def new_plot(xlab, ylab):\n",
    "    plt.figure(figsize=(15,8))\n",
    "    plt.xlabel(xlab); plt.ylabel(ylab)\n",
    "    plt.grid(which='major', linestyle='-', alpha=0.8)\n",
    "    plt.grid(which='minor', linestyle=':', alpha=0.5)"
   ]
  },
  {
   "cell_type": "markdown",
   "metadata": {},
   "source": [
    "# Detailed flow regimes"
   ]
  },
  {
   "cell_type": "code",
   "execution_count": null,
   "metadata": {},
   "outputs": [],
   "source": [
    "target_AoAc = 6.\n",
    "length      = 8.\n",
    "#\n",
    "# set an A/Ac law from a Mach evolution, ensure exit Mach number is consistent with As/Ac\n",
    "Noz_x    = np.linspace(0., length, 200, endpoint=True)\n",
    "ma_max   = mf.Mach_Sigma(target_AoAc, Mach=2.)\n",
    "ma       = 1. + (ma_max-1.)*np.sin(.5*(Noz_x-1.)*np.pi/(length-1.))\n",
    "Noz_AoAc = mf.Sigma_Mach(ma)\n",
    "#\n",
    "new_plot('$x$', '$r=\\sqrt{A/A_c}$') ; plt.plot(Noz_x, np.sqrt(Noz_AoAc))\n",
    "#\n",
    "coord_x = np.append(Noz_x, [length, 1.05*length])  # define x coordinate with 2 additional points"
   ]
  },
  {
   "cell_type": "markdown",
   "metadata": {},
   "source": [
    "# Isentropic subsonic flow"
   ]
  },
  {
   "cell_type": "code",
   "execution_count": null,
   "metadata": {},
   "outputs": [],
   "source": [
    "Ma_col = .7\n",
    "#\n",
    "_M  = mf.MachSub_Sigma(Noz_AoAc*mf.Sigma_Mach(Ma_col))\n",
    "_M  = np.append(_M, [_M[-1], _M[-1]])  # add constant points\n",
    "_Pt = 0.*coord_x + 1.\n",
    "_Ps = _Pt/Is.PiPs_Mach(_M)\n",
    "#\n",
    "new_plot('$x$','Mach')\n",
    "plt.plot(coord_x, _M)"
   ]
  },
  {
   "cell_type": "code",
   "execution_count": null,
   "metadata": {},
   "outputs": [],
   "source": [
    "new_plot('$x$','$P_s$, $P_t$')\n",
    "plt.plot(coord_x, _Pt, coord_x, _Ps)\n",
    "plt.ylim(0, 1.05)"
   ]
  },
  {
   "cell_type": "markdown",
   "metadata": {},
   "source": [
    "# Isentropic subsonic and choked flow"
   ]
  },
  {
   "cell_type": "code",
   "execution_count": null,
   "metadata": {
    "scrolled": false
   },
   "outputs": [],
   "source": [
    "_M  = mf.MachSub_Sigma(Noz_AoAc)\n",
    "_M  = np.append(_M, [_M[-1], _M[-1]])  # add constant points\n",
    "_Pt = 0.*coord_x + 1.\n",
    "_Ps = _Pt/Is.PiPs_Mach(_M)\n",
    "#\n",
    "new_plot('$x$','Mach')\n",
    "plt.plot(coord_x, _M)"
   ]
  },
  {
   "cell_type": "code",
   "execution_count": null,
   "metadata": {},
   "outputs": [],
   "source": [
    "new_plot('$x$','$P_s$, $P_t$')\n",
    "plt.plot(coord_x, _Pt, coord_x, _Ps)\n",
    "plt.ylim(0, 1.05)"
   ]
  },
  {
   "cell_type": "markdown",
   "metadata": {},
   "source": [
    "## Isentropic supersonic flow"
   ]
  },
  {
   "cell_type": "code",
   "execution_count": null,
   "metadata": {
    "scrolled": false
   },
   "outputs": [],
   "source": [
    "_Minit = .05 + (Noz_x > 1.)*2.   # set initial guess to .05 in convergent, 2. in diffuser\n",
    "_M  = mf.Mach_Sigma(Noz_AoAc, Mach=_Minit)\n",
    "_M  = np.append(_M, [_M[-1], _M[-1]])  # add constant points\n",
    "_Pt = 0.*coord_x + 1.\n",
    "_Ps = _Pt/Is.PiPs_Mach(_M)\n",
    "#\n",
    "new_plot('$x$','Mach')\n",
    "plt.plot(coord_x, _M)"
   ]
  },
  {
   "cell_type": "code",
   "execution_count": null,
   "metadata": {},
   "outputs": [],
   "source": [
    "new_plot('$x$','$P_s$, $P_t$')\n",
    "plt.plot(coord_x, _Pt, coord_x, _Ps)\n",
    "plt.ylim(0, 1.05)"
   ]
  },
  {
   "cell_type": "markdown",
   "metadata": {},
   "source": [
    "# Supersonic nozzle with normal shock at exit"
   ]
  },
  {
   "cell_type": "code",
   "execution_count": null,
   "metadata": {
    "scrolled": false
   },
   "outputs": [],
   "source": [
    "# this is the same computation as previous cell but it is repeated to make it self consistent\n",
    "_Minit = .05 + (Noz_x > 1.)*2.   # set initial guess to .05 in convergent, 2. in diffuser\n",
    "_M  = mf.Mach_Sigma(Noz_AoAc, Mach=_Minit)\n",
    "Msh    = sw.downstream_Mn(_M[-1])\n",
    "Ptloss = sw.Pi_ratio(_M[-1])\n",
    "_M  = np.append(_M, [Msh, Msh])  # add constant points\n",
    "_Pt = np.append(0.*Noz_x + 1., [Ptloss, Ptloss]);\n",
    "_Ps = _Pt/Is.PiPs_Mach(_M)\n",
    "#\n",
    "new_plot('$x$','Mach')\n",
    "plt.plot(coord_x, _M)"
   ]
  },
  {
   "cell_type": "code",
   "execution_count": null,
   "metadata": {
    "scrolled": false
   },
   "outputs": [],
   "source": [
    "new_plot('$x$','$P_s$, $P_t$')\n",
    "plt.plot(coord_x, _Pt, coord_x, _Ps)\n",
    "plt.ylim(0, 1.05)"
   ]
  },
  {
   "cell_type": "markdown",
   "metadata": {},
   "source": [
    "# Supersonic nozzle with normal shock in diffuser"
   ]
  },
  {
   "cell_type": "code",
   "execution_count": null,
   "metadata": {
    "scrolled": false
   },
   "outputs": [],
   "source": [
    "pos = .5                            # 0 to 1 parameter to control shock position\n",
    "NPR = NPR0*(1.-pos)+NPRsw*pos\n",
    "#\n",
    "# this is the same computation as previous cell but it is repeated to make it self consistent\n",
    "_Minit = .05 + (Noz_x > 1.)*2.   # set initial guess to .05 in convergent, 2. in diffuser\n",
    "_M  = mf.Mach_Sigma(Noz_AoAc, Mach=_Minit)\n",
    "#\n",
    "# analytical solution for Ms\n",
    "K      = NPR/target_AoAc/((defg._gamma+1.)/2)**((defg._gamma+1.)/2/(defg._gamma-1.))\n",
    "Ms     = np.sqrt((np.sqrt(1.+2.*(defg._gamma-1.)*K*K)-1.)/(defg._gamma-1))\n",
    "#\n",
    "# computation of shock wave (losses and upsptream Mach number)\n",
    "Ptloss = Is.PiPs_Mach(Ms)/NPR\n",
    "Msh    = sw.Mn_Pi_ratio(Ptloss)\n",
    "#\n",
    "# redefine curves starting from 'ish' index (closest value of Msh in supersonic flow)\n",
    "ish    = np.abs(_M-Msh).argmin()\n",
    "_M[ish:] = mf.MachSub_Sigma(Noz_AoAc[ish:]*mf.Sigma_Mach(Ms)/target_AoAc)\n",
    "_M  = np.append(_M, [Ms, Ms])  # add constant points\n",
    "_Pt = np.append(0.*Noz_x + 1., [Ptloss, Ptloss]);\n",
    "_Pt[ish:] = Ptloss\n",
    "_Ps = _Pt/Is.PiPs_Mach(_M)\n",
    "#\n",
    "new_plot('$x$','Mach')\n",
    "plt.plot(coord_x, _M)"
   ]
  },
  {
   "cell_type": "code",
   "execution_count": null,
   "metadata": {
    "scrolled": false
   },
   "outputs": [],
   "source": [
    "new_plot('$x$','$P_s$, $P_t$')\n",
    "plt.plot(coord_x, _Pt, coord_x, _Ps)\n",
    "plt.ylim(0, 1.05)"
   ]
  }
 ],
 "metadata": {
  "kernelspec": {
   "display_name": "venv",
   "language": "python",
   "name": "python3"
  },
  "language_info": {
   "codemirror_mode": {
    "name": "ipython",
    "version": 3
   },
   "file_extension": ".py",
   "mimetype": "text/x-python",
   "name": "python",
   "nbconvert_exporter": "python",
   "pygments_lexer": "ipython3",
   "version": "3.9.19"
  }
 },
 "nbformat": 4,
 "nbformat_minor": 2
}
