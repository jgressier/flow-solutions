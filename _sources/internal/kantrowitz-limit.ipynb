{
 "cells": [
  {
   "cell_type": "code",
   "execution_count": null,
   "metadata": {
    "tags": [
     "hide-input"
    ]
   },
   "outputs": [],
   "source": [
    "\n",
    "import numpy as np\n",
    "import aerokit.aero.ShockWave  as sw\n",
    "import aerokit.aero.MassFlow   as mf\n",
    "%matplotlib inline\n",
    "import matplotlib.pyplot as plt\n",
    "plt.rcParams['font.size'] = 12 ; plt.rcParams['lines.linewidth'] = 1.5\n",
    "#\n",
    "def plotstyle(ax, xlab, ylab, *args, **kwargs):\n",
    "    if 'xlog' in args: ax.set_xscale('log')\n",
    "    if 'ylog' in args: ax.set_yscale('log')\n",
    "    ax.set_xlabel(xlab)\n",
    "    ax.set_ylabel(ylab)\n",
    "    ax.grid(which='major', linestyle='-', alpha=0.8)\n",
    "    ax.grid(which='minor', linestyle=':', alpha=0.5)"
   ]
  },
  {
   "cell_type": "markdown",
   "metadata": {},
   "source": [
    "# Kantrowitz limit\n",
    "\n",
    "## flow regimes for a supersonic intake\n",
    "\n",
    "### isentropic flow\n",
    "\n",
    "The isentropic (i.e. continuous) deceleration from upstream Mach number to the minimum Mach number at the throat $c$ is possible to the limite $M_c=1$. \n",
    "\n",
    "### unstarted air intake\n",
    "\n",
    "If the throat is too restricted, supersonic flow becomes no more possible. The subsonic flow is triggered by a normal shock wave. The limit case is when the normal shock is at the lips of the air intake."
   ]
  },
  {
   "cell_type": "code",
   "execution_count": null,
   "metadata": {},
   "outputs": [],
   "source": [
    "# supersonic regimes\n",
    "M0 = np.geomspace(1., 4., 100)\n",
    "# isentropic\n",
    "AiAc_i = mf.Sigma_Mach(M0)\n",
    "# unstart / choked throat\n",
    "AiAc_u = mf.Sigma_Mach(sw.downstream_Mn(M0))\n",
    "#print(AiAc_u, AiAc_i)"
   ]
  },
  {
   "cell_type": "code",
   "execution_count": null,
   "metadata": {},
   "outputs": [],
   "source": [
    "fig, (ax0, ax1) = plt.subplots(1, 2, figsize=(12, 4))\n",
    "plotstyle(ax0, '$M_0$', '$A_c/A_i$')\n",
    "ax0.plot(M0, 1./AiAc_i, label='Isentropic')\n",
    "ax0.plot(M0, 1./AiAc_u, label='Unstart limit')\n",
    "ax0.fill_between(M0, 1./AiAc_i, 1., color='blue', alpha=0.1, hatch='\\\\')\n",
    "ax0.fill_between(M0, 1./AiAc_u, 0., color='red', alpha=0.1, hatch='//')\n",
    "ax0.set_xlim(M0.min(), M0.max())\n",
    "ax0.set_ylim(0., 1.)\n",
    "ax0.legend(loc='best', framealpha=0.5)\n"
   ]
  },
  {
   "cell_type": "code",
   "execution_count": null,
   "metadata": {},
   "outputs": [],
   "source": []
  }
 ],
 "metadata": {
  "kernelspec": {
   "display_name": "venv",
   "language": "python",
   "name": "python3"
  },
  "language_info": {
   "codemirror_mode": {
    "name": "ipython",
    "version": 3
   },
   "file_extension": ".py",
   "mimetype": "text/x-python",
   "name": "python",
   "nbconvert_exporter": "python",
   "pygments_lexer": "ipython3",
   "version": "3.9.19"
  }
 },
 "nbformat": 4,
 "nbformat_minor": 2
}
