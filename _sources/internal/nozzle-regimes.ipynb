{
 "cells": [
  {
   "cell_type": "code",
   "execution_count": null,
   "metadata": {
    "tags": [
     "\"tags\": [\"remove-input\"]"
    ]
   },
   "outputs": [],
   "source": [
    "\n",
    "import numpy as np\n",
    "import aerokit.common.defaultgas as defg\n",
    "import aerokit.aero.Isentropic as Is\n",
    "import aerokit.aero.ShockWave  as sw\n",
    "import aerokit.aero.MassFlow   as mf\n",
    "#import aerokit.aero.nozzle     as nz\n",
    "%matplotlib inline\n",
    "import matplotlib.pyplot as plt\n",
    "plt.rcParams['font.size'] = 14 ; plt.rcParams['lines.linewidth'] = 1.5\n",
    "#print plt.rcParams.keys()\n",
    "# for slides\n",
    "#plt.rcParams['font.size'] = 24 ; plt.rcParams['grid.linewidth'] = 2 ; plt.rcParams['lines.linewidth'] = 4\n",
    "#\n",
    "def new_plot(xlab, ylab):\n",
    "    plt.figure(figsize=(15,8))\n",
    "    plt.xlabel(xlab); plt.ylabel(ylab)\n",
    "    plt.grid(which='major', linestyle='-', alpha=0.8)\n",
    "    plt.grid(which='minor', linestyle=':', alpha=0.5)"
   ]
  },
  {
   "cell_type": "code",
   "execution_count": null,
   "metadata": {},
   "outputs": [],
   "source": [
    "target_AoAc = 6.\n",
    "length      = 8.\n",
    "#"
   ]
  },
  {
   "cell_type": "markdown",
   "metadata": {},
   "source": [
    "# Flow regimes"
   ]
  },
  {
   "cell_type": "code",
   "execution_count": null,
   "metadata": {},
   "outputs": [],
   "source": [
    "# choked NPR but subsonic\n",
    "Msub = mf.MachSub_Sigma(target_AoAc)\n",
    "NPR0 = Is.PiPs_Mach(Msub)\n",
    "# choked and supersonic\n",
    "Msup = mf.MachSup_Sigma(target_AoAc)\n",
    "NPR1 = Is.PiPs_Mach(Msup)\n",
    "# choked, supersonic and shock at exit\n",
    "Msh   = sw.downstream_Mn(Msup)\n",
    "NPRsw = Is.PiPs_Mach(Msh) / sw.Pi_ratio(Msup)\n",
    "#\n",
    "print(\"NPR limits are \", NPR0, NPRsw, NPR1, \"\\nwith respective Mach \", Msub, Msh, Msup)"
   ]
  }
 ],
 "metadata": {
  "kernelspec": {
   "display_name": "venv",
   "language": "python",
   "name": "python3"
  },
  "language_info": {
   "codemirror_mode": {
    "name": "ipython",
    "version": 3
   },
   "file_extension": ".py",
   "mimetype": "text/x-python",
   "name": "python",
   "nbconvert_exporter": "python",
   "pygments_lexer": "ipython3",
   "version": "3.9.19"
  }
 },
 "nbformat": 4,
 "nbformat_minor": 2
}
