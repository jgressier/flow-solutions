{
 "cells": [
  {
   "cell_type": "code",
   "execution_count": 18,
   "metadata": {
    "tags": [
     "hide-input"
    ]
   },
   "outputs": [],
   "source": [
    "\n",
    "import numpy as np\n",
    "import aerokit.aero.Isentropic as Is\n",
    "import aerokit.aero.ShockWave  as sw\n",
    "import aerokit.aero.MassFlow   as mf\n",
    "%matplotlib inline\n",
    "import matplotlib.pyplot as plt\n",
    "plt.rcParams['font.size'] = 14 ; plt.rcParams['lines.linewidth'] = 1.5\n",
    "#\n",
    "def plotstyle(ax, xlab, ylab, *args, **kwargs):\n",
    "    if 'xlog' in args: ax.set_xscale('log')\n",
    "    if 'ylog' in args: ax.set_yscale('log')\n",
    "    ax.set_xlabel(xlab)\n",
    "    ax.set_ylabel(ylab)\n",
    "    ax.grid(which='major', linestyle='-', alpha=0.8)\n",
    "    ax.grid(which='minor', linestyle=':', alpha=0.5)"
   ]
  },
  {
   "cell_type": "markdown",
   "metadata": {},
   "source": [
    "# Flow regimes\n",
    "\n",
    "Flow regimes are governed by different conditions and constraints. One can list:\n",
    "- the fully subsonic flow\n",
    "- the \"fully\" supersonic flow in the diffuser: convergent is subsonic and the throat is sonic and said to be _choked_\n",
    "- \n",
    "The limits are detailed below. The description of the flow \n",
    "\n",
    "## definition"
   ]
  },
  {
   "cell_type": "code",
   "execution_count": 8,
   "metadata": {},
   "outputs": [],
   "source": [
    "target_AoAc = 6."
   ]
  },
  {
   "cell_type": "code",
   "execution_count": null,
   "metadata": {},
   "outputs": [],
   "source": [
    "# choked NPR but subsonic\n",
    "Msub = mf.MachSub_Sigma(target_AoAc)\n",
    "NPR0 = Is.PiPs_Mach(Msub)\n",
    "# choked and supersonic\n",
    "Msup = mf.MachSup_Sigma(target_AoAc)\n",
    "NPR1 = Is.PiPs_Mach(Msup)\n",
    "# choked, supersonic and shock at exit\n",
    "Msh   = sw.downstream_Mn(Msup)\n",
    "NPRsw = Is.PiPs_Mach(Msh) / sw.Pi_ratio(Msup)\n",
    "#\n",
    "print(f\"The limits for a nozzle with section ratio {target_AoAc:.1f} are:\")\n",
    "print(\" \"*20, \"\\033[1m  NPR\", \" Mach\\033[0m\")\n",
    "for title, NPR, Mach in zip(\n",
    "    ['choked and subsonic', 'shock at exit', 'supersonic'],\n",
    "    [NPR0, NPRsw, NPR1],\n",
    "    [Msub, Msh, Msup]):\n",
    "    print(f\"{title:>20}\", f\"{NPR:5.2f}\", f\"{Mach:5.2f}\")"
   ]
  },
  {
   "cell_type": "markdown",
   "metadata": {},
   "source": [
    "## limits according to nozzle section ratio\n",
    "\n",
    "In `aerokit.instance.nozzle`, those NPR limits are already implemented. Let's plot it against the ratio of exit over throat sections."
   ]
  },
  {
   "cell_type": "code",
   "execution_count": null,
   "metadata": {},
   "outputs": [],
   "source": [
    "import aerokit.instance.nozzle as nz\n",
    "#\n",
    "Aratio = np.geomspace(1., 20., 100)\n",
    "#\n",
    "NPR0, NPRsw, NPR1, Msub, Msh, Msup = nz._NPR_Ms_list(Aratio)\n",
    "#\n",
    "fig, (ax0, ax1) = plt.subplots(1, 2, figsize=(12, 4))\n",
    "plotstyle(ax0, 'Area ratio', 'NPR', 'xlog', 'ylog')\n",
    "plotstyle(ax1, 'Area ratio', 'Mach', 'xlog')\n",
    "for NPR, Mach, title in zip([NPR0, NPRsw, NPR1], [Msub, Msh, Msup], ['subsonic', 'shock at exit', 'supersonic']):\n",
    "    ax0.plot(Aratio, NPR, label=title)\n",
    "    ax1.plot(Aratio, Mach, label=title)"
   ]
  },
  {
   "cell_type": "code",
   "execution_count": null,
   "metadata": {},
   "outputs": [],
   "source": []
  }
 ],
 "metadata": {
  "kernelspec": {
   "display_name": "venv",
   "language": "python",
   "name": "python3"
  },
  "language_info": {
   "codemirror_mode": {
    "name": "ipython",
    "version": 3
   },
   "file_extension": ".py",
   "mimetype": "text/x-python",
   "name": "python",
   "nbconvert_exporter": "python",
   "pygments_lexer": "ipython3",
   "version": "3.9.19"
  }
 },
 "nbformat": 4,
 "nbformat_minor": 2
}
